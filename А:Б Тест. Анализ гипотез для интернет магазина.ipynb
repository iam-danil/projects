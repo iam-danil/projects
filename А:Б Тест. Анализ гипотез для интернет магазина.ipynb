{
 "cells": [
  {
   "cell_type": "markdown",
   "metadata": {},
   "source": [
    "# Анализ гипотез для интернет-магазина"
   ]
  },
  {
   "cell_type": "markdown",
   "metadata": {},
   "source": [
    "Вводные данные: Сотрудники отдела аналитики и отдела маркетинга подготовили список гипотез, которые могут увеличить выручку интернет магазина.\n",
    "\n",
    "Задача: Приоритизировать гипотезы, запустить A/B-тест и проанализировать полученные результаты. \n",
    "\n",
    "Необходимо сделать:\n",
    "\n",
    "- Применить фреймворки ICE, RICE для приоретизации гипотез\n",
    "- Проанализировать результаты А/В теста.\n",
    "- Принять решение относительно полученных результатов.\n",
    "\n"
   ]
  },
  {
   "cell_type": "markdown",
   "metadata": {},
   "source": [
    "Перед началом работы импортируем библиотеки, которые нам понадобятся."
   ]
  },
  {
   "cell_type": "code",
   "execution_count": 1,
   "metadata": {},
   "outputs": [],
   "source": [
    "import pandas as pd\n",
    "import matplotlib.pyplot as plt\n",
    "import seaborn as sns\n",
    "from scipy import stats as st\n",
    "import numpy as np\n",
    "from IPython.display import display\n",
    "import datetime as dt"
   ]
  },
  {
   "cell_type": "markdown",
   "metadata": {},
   "source": [
    "## Часть 1. Приоретизация гипотез."
   ]
  },
  {
   "cell_type": "markdown",
   "metadata": {},
   "source": [
    "Загразим файл с данными, который содержит информацию о гипотезах"
   ]
  },
  {
   "cell_type": "code",
   "execution_count": 2,
   "metadata": {},
   "outputs": [],
   "source": [
    "hypothesis = pd.read_csv('/datasets/hypothesis.csv')"
   ]
  },
  {
   "cell_type": "markdown",
   "metadata": {},
   "source": [
    "Выведем информацию о загруженном датасете и сам датасет"
   ]
  },
  {
   "cell_type": "code",
   "execution_count": 3,
   "metadata": {},
   "outputs": [
    {
     "name": "stdout",
     "output_type": "stream",
     "text": [
      "<class 'pandas.core.frame.DataFrame'>\n",
      "RangeIndex: 9 entries, 0 to 8\n",
      "Data columns (total 5 columns):\n",
      " #   Column      Non-Null Count  Dtype \n",
      "---  ------      --------------  ----- \n",
      " 0   Hypothesis  9 non-null      object\n",
      " 1   Reach       9 non-null      int64 \n",
      " 2   Impact      9 non-null      int64 \n",
      " 3   Confidence  9 non-null      int64 \n",
      " 4   Efforts     9 non-null      int64 \n",
      "dtypes: int64(4), object(1)\n",
      "memory usage: 488.0+ bytes\n"
     ]
    }
   ],
   "source": [
    "hypothesis.info()"
   ]
  },
  {
   "cell_type": "code",
   "execution_count": 4,
   "metadata": {},
   "outputs": [
    {
     "data": {
      "text/html": [
       "<div>\n",
       "<style scoped>\n",
       "    .dataframe tbody tr th:only-of-type {\n",
       "        vertical-align: middle;\n",
       "    }\n",
       "\n",
       "    .dataframe tbody tr th {\n",
       "        vertical-align: top;\n",
       "    }\n",
       "\n",
       "    .dataframe thead th {\n",
       "        text-align: right;\n",
       "    }\n",
       "</style>\n",
       "<table border=\"1\" class=\"dataframe\">\n",
       "  <thead>\n",
       "    <tr style=\"text-align: right;\">\n",
       "      <th></th>\n",
       "      <th>Hypothesis</th>\n",
       "      <th>Reach</th>\n",
       "      <th>Impact</th>\n",
       "      <th>Confidence</th>\n",
       "      <th>Efforts</th>\n",
       "    </tr>\n",
       "  </thead>\n",
       "  <tbody>\n",
       "    <tr>\n",
       "      <th>0</th>\n",
       "      <td>Добавить два новых канала привлечения трафика,...</td>\n",
       "      <td>3</td>\n",
       "      <td>10</td>\n",
       "      <td>8</td>\n",
       "      <td>6</td>\n",
       "    </tr>\n",
       "    <tr>\n",
       "      <th>1</th>\n",
       "      <td>Запустить собственную службу доставки, что сок...</td>\n",
       "      <td>2</td>\n",
       "      <td>5</td>\n",
       "      <td>4</td>\n",
       "      <td>10</td>\n",
       "    </tr>\n",
       "    <tr>\n",
       "      <th>2</th>\n",
       "      <td>Добавить блоки рекомендаций товаров на сайт ин...</td>\n",
       "      <td>8</td>\n",
       "      <td>3</td>\n",
       "      <td>7</td>\n",
       "      <td>3</td>\n",
       "    </tr>\n",
       "    <tr>\n",
       "      <th>3</th>\n",
       "      <td>Изменить структура категорий, что увеличит кон...</td>\n",
       "      <td>8</td>\n",
       "      <td>3</td>\n",
       "      <td>3</td>\n",
       "      <td>8</td>\n",
       "    </tr>\n",
       "    <tr>\n",
       "      <th>4</th>\n",
       "      <td>Изменить цвет фона главной страницы, чтобы уве...</td>\n",
       "      <td>3</td>\n",
       "      <td>1</td>\n",
       "      <td>1</td>\n",
       "      <td>1</td>\n",
       "    </tr>\n",
       "    <tr>\n",
       "      <th>5</th>\n",
       "      <td>Добавить страницу отзывов клиентов о магазине,...</td>\n",
       "      <td>3</td>\n",
       "      <td>2</td>\n",
       "      <td>2</td>\n",
       "      <td>3</td>\n",
       "    </tr>\n",
       "    <tr>\n",
       "      <th>6</th>\n",
       "      <td>Показать на главной странице баннеры с актуаль...</td>\n",
       "      <td>5</td>\n",
       "      <td>3</td>\n",
       "      <td>8</td>\n",
       "      <td>3</td>\n",
       "    </tr>\n",
       "    <tr>\n",
       "      <th>7</th>\n",
       "      <td>Добавить форму подписки на все основные страни...</td>\n",
       "      <td>10</td>\n",
       "      <td>7</td>\n",
       "      <td>8</td>\n",
       "      <td>5</td>\n",
       "    </tr>\n",
       "    <tr>\n",
       "      <th>8</th>\n",
       "      <td>Запустить акцию, дающую скидку на товар в день...</td>\n",
       "      <td>1</td>\n",
       "      <td>9</td>\n",
       "      <td>9</td>\n",
       "      <td>5</td>\n",
       "    </tr>\n",
       "  </tbody>\n",
       "</table>\n",
       "</div>"
      ],
      "text/plain": [
       "                                          Hypothesis  Reach  Impact  \\\n",
       "0  Добавить два новых канала привлечения трафика,...      3      10   \n",
       "1  Запустить собственную службу доставки, что сок...      2       5   \n",
       "2  Добавить блоки рекомендаций товаров на сайт ин...      8       3   \n",
       "3  Изменить структура категорий, что увеличит кон...      8       3   \n",
       "4  Изменить цвет фона главной страницы, чтобы уве...      3       1   \n",
       "5  Добавить страницу отзывов клиентов о магазине,...      3       2   \n",
       "6  Показать на главной странице баннеры с актуаль...      5       3   \n",
       "7  Добавить форму подписки на все основные страни...     10       7   \n",
       "8  Запустить акцию, дающую скидку на товар в день...      1       9   \n",
       "\n",
       "   Confidence  Efforts  \n",
       "0           8        6  \n",
       "1           4       10  \n",
       "2           7        3  \n",
       "3           3        8  \n",
       "4           1        1  \n",
       "5           2        3  \n",
       "6           8        3  \n",
       "7           8        5  \n",
       "8           9        5  "
      ]
     },
     "execution_count": 4,
     "metadata": {},
     "output_type": "execute_result"
    }
   ],
   "source": [
    "hypothesis"
   ]
  },
  {
   "cell_type": "markdown",
   "metadata": {},
   "source": [
    "Данные целостны и корректны, типы данных верны, дубликатов не найдено. Данные готовы к анализу"
   ]
  },
  {
   "cell_type": "markdown",
   "metadata": {},
   "source": [
    "Опишем все параметры оценки гипотезы:\n",
    "\n",
    "Reach — скольких пользователей затронет изменение, которое вы хотите внести;\n",
    "\n",
    "Impact — насколько сильно изменение повлияет на пользователей, их опыт и удовлетворение от продукта;\n",
    "\n",
    "Confidence — насколько вы уверены, что это изменение повлияет на пользователей именно так; \n",
    "\n",
    "Efforts — сколько стоит протестировать эту гипотезу."
   ]
  },
  {
   "cell_type": "markdown",
   "metadata": {},
   "source": [
    "Применим фреймворк ICE для оценки приоретизации гипотез:"
   ]
  },
  {
   "cell_type": "code",
   "execution_count": 5,
   "metadata": {},
   "outputs": [
    {
     "data": {
      "text/html": [
       "<div>\n",
       "<style scoped>\n",
       "    .dataframe tbody tr th:only-of-type {\n",
       "        vertical-align: middle;\n",
       "    }\n",
       "\n",
       "    .dataframe tbody tr th {\n",
       "        vertical-align: top;\n",
       "    }\n",
       "\n",
       "    .dataframe thead th {\n",
       "        text-align: right;\n",
       "    }\n",
       "</style>\n",
       "<table border=\"1\" class=\"dataframe\">\n",
       "  <thead>\n",
       "    <tr style=\"text-align: right;\">\n",
       "      <th></th>\n",
       "      <th>Hypothesis</th>\n",
       "      <th>Reach</th>\n",
       "      <th>Impact</th>\n",
       "      <th>Confidence</th>\n",
       "      <th>Efforts</th>\n",
       "      <th>ICE</th>\n",
       "    </tr>\n",
       "  </thead>\n",
       "  <tbody>\n",
       "    <tr>\n",
       "      <th>8</th>\n",
       "      <td>Запустить акцию, дающую скидку на товар в день...</td>\n",
       "      <td>1</td>\n",
       "      <td>9</td>\n",
       "      <td>9</td>\n",
       "      <td>5</td>\n",
       "      <td>16.200000</td>\n",
       "    </tr>\n",
       "    <tr>\n",
       "      <th>0</th>\n",
       "      <td>Добавить два новых канала привлечения трафика,...</td>\n",
       "      <td>3</td>\n",
       "      <td>10</td>\n",
       "      <td>8</td>\n",
       "      <td>6</td>\n",
       "      <td>13.333333</td>\n",
       "    </tr>\n",
       "    <tr>\n",
       "      <th>7</th>\n",
       "      <td>Добавить форму подписки на все основные страни...</td>\n",
       "      <td>10</td>\n",
       "      <td>7</td>\n",
       "      <td>8</td>\n",
       "      <td>5</td>\n",
       "      <td>11.200000</td>\n",
       "    </tr>\n",
       "    <tr>\n",
       "      <th>6</th>\n",
       "      <td>Показать на главной странице баннеры с актуаль...</td>\n",
       "      <td>5</td>\n",
       "      <td>3</td>\n",
       "      <td>8</td>\n",
       "      <td>3</td>\n",
       "      <td>8.000000</td>\n",
       "    </tr>\n",
       "    <tr>\n",
       "      <th>2</th>\n",
       "      <td>Добавить блоки рекомендаций товаров на сайт ин...</td>\n",
       "      <td>8</td>\n",
       "      <td>3</td>\n",
       "      <td>7</td>\n",
       "      <td>3</td>\n",
       "      <td>7.000000</td>\n",
       "    </tr>\n",
       "    <tr>\n",
       "      <th>1</th>\n",
       "      <td>Запустить собственную службу доставки, что сок...</td>\n",
       "      <td>2</td>\n",
       "      <td>5</td>\n",
       "      <td>4</td>\n",
       "      <td>10</td>\n",
       "      <td>2.000000</td>\n",
       "    </tr>\n",
       "    <tr>\n",
       "      <th>5</th>\n",
       "      <td>Добавить страницу отзывов клиентов о магазине,...</td>\n",
       "      <td>3</td>\n",
       "      <td>2</td>\n",
       "      <td>2</td>\n",
       "      <td>3</td>\n",
       "      <td>1.333333</td>\n",
       "    </tr>\n",
       "    <tr>\n",
       "      <th>3</th>\n",
       "      <td>Изменить структура категорий, что увеличит кон...</td>\n",
       "      <td>8</td>\n",
       "      <td>3</td>\n",
       "      <td>3</td>\n",
       "      <td>8</td>\n",
       "      <td>1.125000</td>\n",
       "    </tr>\n",
       "    <tr>\n",
       "      <th>4</th>\n",
       "      <td>Изменить цвет фона главной страницы, чтобы уве...</td>\n",
       "      <td>3</td>\n",
       "      <td>1</td>\n",
       "      <td>1</td>\n",
       "      <td>1</td>\n",
       "      <td>1.000000</td>\n",
       "    </tr>\n",
       "  </tbody>\n",
       "</table>\n",
       "</div>"
      ],
      "text/plain": [
       "                                          Hypothesis  Reach  Impact  \\\n",
       "8  Запустить акцию, дающую скидку на товар в день...      1       9   \n",
       "0  Добавить два новых канала привлечения трафика,...      3      10   \n",
       "7  Добавить форму подписки на все основные страни...     10       7   \n",
       "6  Показать на главной странице баннеры с актуаль...      5       3   \n",
       "2  Добавить блоки рекомендаций товаров на сайт ин...      8       3   \n",
       "1  Запустить собственную службу доставки, что сок...      2       5   \n",
       "5  Добавить страницу отзывов клиентов о магазине,...      3       2   \n",
       "3  Изменить структура категорий, что увеличит кон...      8       3   \n",
       "4  Изменить цвет фона главной страницы, чтобы уве...      3       1   \n",
       "\n",
       "   Confidence  Efforts        ICE  \n",
       "8           9        5  16.200000  \n",
       "0           8        6  13.333333  \n",
       "7           8        5  11.200000  \n",
       "6           8        3   8.000000  \n",
       "2           7        3   7.000000  \n",
       "1           4       10   2.000000  \n",
       "5           2        3   1.333333  \n",
       "3           3        8   1.125000  \n",
       "4           1        1   1.000000  "
      ]
     },
     "execution_count": 5,
     "metadata": {},
     "output_type": "execute_result"
    }
   ],
   "source": [
    "hypothesis['ICE'] = (hypothesis['Impact'] * hypothesis['Confidence']) / hypothesis['Efforts']\n",
    "\n",
    "hypothesis.sort_values(by='ICE', ascending=False)"
   ]
  },
  {
   "cell_type": "markdown",
   "metadata": {},
   "source": [
    "Далее применим фреймворк RICE для приоретизации гипотез:"
   ]
  },
  {
   "cell_type": "code",
   "execution_count": 6,
   "metadata": {},
   "outputs": [
    {
     "data": {
      "text/html": [
       "<div>\n",
       "<style scoped>\n",
       "    .dataframe tbody tr th:only-of-type {\n",
       "        vertical-align: middle;\n",
       "    }\n",
       "\n",
       "    .dataframe tbody tr th {\n",
       "        vertical-align: top;\n",
       "    }\n",
       "\n",
       "    .dataframe thead th {\n",
       "        text-align: right;\n",
       "    }\n",
       "</style>\n",
       "<table border=\"1\" class=\"dataframe\">\n",
       "  <thead>\n",
       "    <tr style=\"text-align: right;\">\n",
       "      <th></th>\n",
       "      <th>Hypothesis</th>\n",
       "      <th>Reach</th>\n",
       "      <th>Impact</th>\n",
       "      <th>Confidence</th>\n",
       "      <th>Efforts</th>\n",
       "      <th>ICE</th>\n",
       "      <th>RICE</th>\n",
       "    </tr>\n",
       "  </thead>\n",
       "  <tbody>\n",
       "    <tr>\n",
       "      <th>7</th>\n",
       "      <td>Добавить форму подписки на все основные страни...</td>\n",
       "      <td>10</td>\n",
       "      <td>7</td>\n",
       "      <td>8</td>\n",
       "      <td>5</td>\n",
       "      <td>11.200000</td>\n",
       "      <td>112.0</td>\n",
       "    </tr>\n",
       "    <tr>\n",
       "      <th>2</th>\n",
       "      <td>Добавить блоки рекомендаций товаров на сайт ин...</td>\n",
       "      <td>8</td>\n",
       "      <td>3</td>\n",
       "      <td>7</td>\n",
       "      <td>3</td>\n",
       "      <td>7.000000</td>\n",
       "      <td>56.0</td>\n",
       "    </tr>\n",
       "    <tr>\n",
       "      <th>0</th>\n",
       "      <td>Добавить два новых канала привлечения трафика,...</td>\n",
       "      <td>3</td>\n",
       "      <td>10</td>\n",
       "      <td>8</td>\n",
       "      <td>6</td>\n",
       "      <td>13.333333</td>\n",
       "      <td>40.0</td>\n",
       "    </tr>\n",
       "    <tr>\n",
       "      <th>6</th>\n",
       "      <td>Показать на главной странице баннеры с актуаль...</td>\n",
       "      <td>5</td>\n",
       "      <td>3</td>\n",
       "      <td>8</td>\n",
       "      <td>3</td>\n",
       "      <td>8.000000</td>\n",
       "      <td>40.0</td>\n",
       "    </tr>\n",
       "    <tr>\n",
       "      <th>8</th>\n",
       "      <td>Запустить акцию, дающую скидку на товар в день...</td>\n",
       "      <td>1</td>\n",
       "      <td>9</td>\n",
       "      <td>9</td>\n",
       "      <td>5</td>\n",
       "      <td>16.200000</td>\n",
       "      <td>16.2</td>\n",
       "    </tr>\n",
       "    <tr>\n",
       "      <th>3</th>\n",
       "      <td>Изменить структура категорий, что увеличит кон...</td>\n",
       "      <td>8</td>\n",
       "      <td>3</td>\n",
       "      <td>3</td>\n",
       "      <td>8</td>\n",
       "      <td>1.125000</td>\n",
       "      <td>9.0</td>\n",
       "    </tr>\n",
       "    <tr>\n",
       "      <th>1</th>\n",
       "      <td>Запустить собственную службу доставки, что сок...</td>\n",
       "      <td>2</td>\n",
       "      <td>5</td>\n",
       "      <td>4</td>\n",
       "      <td>10</td>\n",
       "      <td>2.000000</td>\n",
       "      <td>4.0</td>\n",
       "    </tr>\n",
       "    <tr>\n",
       "      <th>5</th>\n",
       "      <td>Добавить страницу отзывов клиентов о магазине,...</td>\n",
       "      <td>3</td>\n",
       "      <td>2</td>\n",
       "      <td>2</td>\n",
       "      <td>3</td>\n",
       "      <td>1.333333</td>\n",
       "      <td>4.0</td>\n",
       "    </tr>\n",
       "    <tr>\n",
       "      <th>4</th>\n",
       "      <td>Изменить цвет фона главной страницы, чтобы уве...</td>\n",
       "      <td>3</td>\n",
       "      <td>1</td>\n",
       "      <td>1</td>\n",
       "      <td>1</td>\n",
       "      <td>1.000000</td>\n",
       "      <td>3.0</td>\n",
       "    </tr>\n",
       "  </tbody>\n",
       "</table>\n",
       "</div>"
      ],
      "text/plain": [
       "                                          Hypothesis  Reach  Impact  \\\n",
       "7  Добавить форму подписки на все основные страни...     10       7   \n",
       "2  Добавить блоки рекомендаций товаров на сайт ин...      8       3   \n",
       "0  Добавить два новых канала привлечения трафика,...      3      10   \n",
       "6  Показать на главной странице баннеры с актуаль...      5       3   \n",
       "8  Запустить акцию, дающую скидку на товар в день...      1       9   \n",
       "3  Изменить структура категорий, что увеличит кон...      8       3   \n",
       "1  Запустить собственную службу доставки, что сок...      2       5   \n",
       "5  Добавить страницу отзывов клиентов о магазине,...      3       2   \n",
       "4  Изменить цвет фона главной страницы, чтобы уве...      3       1   \n",
       "\n",
       "   Confidence  Efforts        ICE   RICE  \n",
       "7           8        5  11.200000  112.0  \n",
       "2           7        3   7.000000   56.0  \n",
       "0           8        6  13.333333   40.0  \n",
       "6           8        3   8.000000   40.0  \n",
       "8           9        5  16.200000   16.2  \n",
       "3           3        8   1.125000    9.0  \n",
       "1           4       10   2.000000    4.0  \n",
       "5           2        3   1.333333    4.0  \n",
       "4           1        1   1.000000    3.0  "
      ]
     },
     "execution_count": 6,
     "metadata": {},
     "output_type": "execute_result"
    }
   ],
   "source": [
    "hypothesis['RICE'] = (hypothesis['Reach'] * hypothesis['Impact'] * hypothesis['Confidence']) / hypothesis['Efforts']\n",
    "\n",
    "hypothesis.sort_values(by='RICE', ascending=False)"
   ]
  },
  {
   "cell_type": "markdown",
   "metadata": {},
   "source": [
    "Рассмотрим описание гипотез и примененный фреймворки более подробно:"
   ]
  },
  {
   "cell_type": "code",
   "execution_count": 7,
   "metadata": {},
   "outputs": [
    {
     "data": {
      "text/html": [
       "<div>\n",
       "<style scoped>\n",
       "    .dataframe tbody tr th:only-of-type {\n",
       "        vertical-align: middle;\n",
       "    }\n",
       "\n",
       "    .dataframe tbody tr th {\n",
       "        vertical-align: top;\n",
       "    }\n",
       "\n",
       "    .dataframe thead th {\n",
       "        text-align: right;\n",
       "    }\n",
       "</style>\n",
       "<table border=\"1\" class=\"dataframe\">\n",
       "  <thead>\n",
       "    <tr style=\"text-align: right;\">\n",
       "      <th></th>\n",
       "      <th>Hypothesis</th>\n",
       "      <th>ICE</th>\n",
       "      <th>RICE</th>\n",
       "    </tr>\n",
       "  </thead>\n",
       "  <tbody>\n",
       "    <tr>\n",
       "      <th>7</th>\n",
       "      <td>Добавить форму подписки на все основные страницы, чтобы собрать базу клиентов для email-рассылок</td>\n",
       "      <td>11.200000</td>\n",
       "      <td>112.0</td>\n",
       "    </tr>\n",
       "    <tr>\n",
       "      <th>2</th>\n",
       "      <td>Добавить блоки рекомендаций товаров на сайт интернет магазина, чтобы повысить конверсию и средний чек заказа</td>\n",
       "      <td>7.000000</td>\n",
       "      <td>56.0</td>\n",
       "    </tr>\n",
       "    <tr>\n",
       "      <th>0</th>\n",
       "      <td>Добавить два новых канала привлечения трафика, что позволит привлекать на 30% больше пользователей</td>\n",
       "      <td>13.333333</td>\n",
       "      <td>40.0</td>\n",
       "    </tr>\n",
       "    <tr>\n",
       "      <th>6</th>\n",
       "      <td>Показать на главной странице баннеры с актуальными акциями и распродажами, чтобы увеличить конверсию</td>\n",
       "      <td>8.000000</td>\n",
       "      <td>40.0</td>\n",
       "    </tr>\n",
       "    <tr>\n",
       "      <th>8</th>\n",
       "      <td>Запустить акцию, дающую скидку на товар в день рождения</td>\n",
       "      <td>16.200000</td>\n",
       "      <td>16.2</td>\n",
       "    </tr>\n",
       "    <tr>\n",
       "      <th>3</th>\n",
       "      <td>Изменить структура категорий, что увеличит конверсию, т.к. пользователи быстрее найдут нужный товар</td>\n",
       "      <td>1.125000</td>\n",
       "      <td>9.0</td>\n",
       "    </tr>\n",
       "    <tr>\n",
       "      <th>1</th>\n",
       "      <td>Запустить собственную службу доставки, что сократит срок доставки заказов</td>\n",
       "      <td>2.000000</td>\n",
       "      <td>4.0</td>\n",
       "    </tr>\n",
       "    <tr>\n",
       "      <th>5</th>\n",
       "      <td>Добавить страницу отзывов клиентов о магазине, что позволит увеличить количество заказов</td>\n",
       "      <td>1.333333</td>\n",
       "      <td>4.0</td>\n",
       "    </tr>\n",
       "    <tr>\n",
       "      <th>4</th>\n",
       "      <td>Изменить цвет фона главной страницы, чтобы увеличить вовлеченность пользователей</td>\n",
       "      <td>1.000000</td>\n",
       "      <td>3.0</td>\n",
       "    </tr>\n",
       "  </tbody>\n",
       "</table>\n",
       "</div>"
      ],
      "text/plain": [
       "                                                                                                     Hypothesis  \\\n",
       "7              Добавить форму подписки на все основные страницы, чтобы собрать базу клиентов для email-рассылок   \n",
       "2  Добавить блоки рекомендаций товаров на сайт интернет магазина, чтобы повысить конверсию и средний чек заказа   \n",
       "0            Добавить два новых канала привлечения трафика, что позволит привлекать на 30% больше пользователей   \n",
       "6          Показать на главной странице баннеры с актуальными акциями и распродажами, чтобы увеличить конверсию   \n",
       "8                                                       Запустить акцию, дающую скидку на товар в день рождения   \n",
       "3           Изменить структура категорий, что увеличит конверсию, т.к. пользователи быстрее найдут нужный товар   \n",
       "1                                     Запустить собственную службу доставки, что сократит срок доставки заказов   \n",
       "5                      Добавить страницу отзывов клиентов о магазине, что позволит увеличить количество заказов   \n",
       "4                              Изменить цвет фона главной страницы, чтобы увеличить вовлеченность пользователей   \n",
       "\n",
       "         ICE   RICE  \n",
       "7  11.200000  112.0  \n",
       "2   7.000000   56.0  \n",
       "0  13.333333   40.0  \n",
       "6   8.000000   40.0  \n",
       "8  16.200000   16.2  \n",
       "3   1.125000    9.0  \n",
       "1   2.000000    4.0  \n",
       "5   1.333333    4.0  \n",
       "4   1.000000    3.0  "
      ]
     },
     "execution_count": 7,
     "metadata": {},
     "output_type": "execute_result"
    }
   ],
   "source": [
    "pd.set_option('display.max_colwidth', 500)\n",
    "hypothesis[['Hypothesis', 'ICE', 'RICE']].sort_values(by='RICE', ascending=False)"
   ]
  },
  {
   "cell_type": "markdown",
   "metadata": {},
   "source": [
    "Вывод:\n",
    "\n",
    "Мы можем заметить, что при применениии фреймворка RICE приоритизация гипотез изменилась по сравнению с фреймворком ICE. \n",
    "Это произошло по причине того, что во втором случае, при расчетах, мы учитывали параметр Reach, т.е. объем пользователей, которых затронут изменения. Чем большее кол-во пользователей затронет эксперимент, тем более высокая приоритизация у него будет."
   ]
  },
  {
   "cell_type": "markdown",
   "metadata": {},
   "source": [
    "## Часть 2. Анализ А/В теста."
   ]
  },
  {
   "cell_type": "markdown",
   "metadata": {},
   "source": [
    "Загрузим датасеты с данными о результатах А/В теста:"
   ]
  },
  {
   "cell_type": "code",
   "execution_count": 8,
   "metadata": {},
   "outputs": [],
   "source": [
    "orders = pd.read_csv('/datasets/orders.csv')\n",
    "\n",
    "visitors = pd.read_csv('/datasets/visitors.csv')"
   ]
  },
  {
   "cell_type": "markdown",
   "metadata": {},
   "source": [
    "Выведем информацию об этих датасетах и их первые строки:"
   ]
  },
  {
   "cell_type": "code",
   "execution_count": 9,
   "metadata": {},
   "outputs": [
    {
     "name": "stdout",
     "output_type": "stream",
     "text": [
      "<class 'pandas.core.frame.DataFrame'>\n",
      "RangeIndex: 1197 entries, 0 to 1196\n",
      "Data columns (total 5 columns):\n",
      " #   Column         Non-Null Count  Dtype \n",
      "---  ------         --------------  ----- \n",
      " 0   transactionId  1197 non-null   int64 \n",
      " 1   visitorId      1197 non-null   int64 \n",
      " 2   date           1197 non-null   object\n",
      " 3   revenue        1197 non-null   int64 \n",
      " 4   group          1197 non-null   object\n",
      "dtypes: int64(3), object(2)\n",
      "memory usage: 46.9+ KB\n"
     ]
    }
   ],
   "source": [
    "orders.info()\n"
   ]
  },
  {
   "cell_type": "code",
   "execution_count": 10,
   "metadata": {},
   "outputs": [
    {
     "name": "stdout",
     "output_type": "stream",
     "text": [
      "<class 'pandas.core.frame.DataFrame'>\n",
      "RangeIndex: 62 entries, 0 to 61\n",
      "Data columns (total 3 columns):\n",
      " #   Column    Non-Null Count  Dtype \n",
      "---  ------    --------------  ----- \n",
      " 0   date      62 non-null     object\n",
      " 1   group     62 non-null     object\n",
      " 2   visitors  62 non-null     int64 \n",
      "dtypes: int64(1), object(2)\n",
      "memory usage: 1.6+ KB\n"
     ]
    }
   ],
   "source": [
    "visitors.info()"
   ]
  },
  {
   "cell_type": "code",
   "execution_count": 11,
   "metadata": {},
   "outputs": [
    {
     "data": {
      "text/html": [
       "<div>\n",
       "<style scoped>\n",
       "    .dataframe tbody tr th:only-of-type {\n",
       "        vertical-align: middle;\n",
       "    }\n",
       "\n",
       "    .dataframe tbody tr th {\n",
       "        vertical-align: top;\n",
       "    }\n",
       "\n",
       "    .dataframe thead th {\n",
       "        text-align: right;\n",
       "    }\n",
       "</style>\n",
       "<table border=\"1\" class=\"dataframe\">\n",
       "  <thead>\n",
       "    <tr style=\"text-align: right;\">\n",
       "      <th></th>\n",
       "      <th>transactionId</th>\n",
       "      <th>visitorId</th>\n",
       "      <th>date</th>\n",
       "      <th>revenue</th>\n",
       "      <th>group</th>\n",
       "    </tr>\n",
       "  </thead>\n",
       "  <tbody>\n",
       "    <tr>\n",
       "      <th>0</th>\n",
       "      <td>3667963787</td>\n",
       "      <td>3312258926</td>\n",
       "      <td>2019-08-15</td>\n",
       "      <td>1650</td>\n",
       "      <td>B</td>\n",
       "    </tr>\n",
       "    <tr>\n",
       "      <th>1</th>\n",
       "      <td>2804400009</td>\n",
       "      <td>3642806036</td>\n",
       "      <td>2019-08-15</td>\n",
       "      <td>730</td>\n",
       "      <td>B</td>\n",
       "    </tr>\n",
       "    <tr>\n",
       "      <th>2</th>\n",
       "      <td>2961555356</td>\n",
       "      <td>4069496402</td>\n",
       "      <td>2019-08-15</td>\n",
       "      <td>400</td>\n",
       "      <td>A</td>\n",
       "    </tr>\n",
       "    <tr>\n",
       "      <th>3</th>\n",
       "      <td>3797467345</td>\n",
       "      <td>1196621759</td>\n",
       "      <td>2019-08-15</td>\n",
       "      <td>9759</td>\n",
       "      <td>B</td>\n",
       "    </tr>\n",
       "    <tr>\n",
       "      <th>4</th>\n",
       "      <td>2282983706</td>\n",
       "      <td>2322279887</td>\n",
       "      <td>2019-08-15</td>\n",
       "      <td>2308</td>\n",
       "      <td>B</td>\n",
       "    </tr>\n",
       "  </tbody>\n",
       "</table>\n",
       "</div>"
      ],
      "text/plain": [
       "   transactionId   visitorId        date  revenue group\n",
       "0     3667963787  3312258926  2019-08-15     1650     B\n",
       "1     2804400009  3642806036  2019-08-15      730     B\n",
       "2     2961555356  4069496402  2019-08-15      400     A\n",
       "3     3797467345  1196621759  2019-08-15     9759     B\n",
       "4     2282983706  2322279887  2019-08-15     2308     B"
      ]
     },
     "execution_count": 11,
     "metadata": {},
     "output_type": "execute_result"
    }
   ],
   "source": [
    "orders.head()"
   ]
  },
  {
   "cell_type": "code",
   "execution_count": 12,
   "metadata": {},
   "outputs": [
    {
     "data": {
      "text/html": [
       "<div>\n",
       "<style scoped>\n",
       "    .dataframe tbody tr th:only-of-type {\n",
       "        vertical-align: middle;\n",
       "    }\n",
       "\n",
       "    .dataframe tbody tr th {\n",
       "        vertical-align: top;\n",
       "    }\n",
       "\n",
       "    .dataframe thead th {\n",
       "        text-align: right;\n",
       "    }\n",
       "</style>\n",
       "<table border=\"1\" class=\"dataframe\">\n",
       "  <thead>\n",
       "    <tr style=\"text-align: right;\">\n",
       "      <th></th>\n",
       "      <th>date</th>\n",
       "      <th>group</th>\n",
       "      <th>visitors</th>\n",
       "    </tr>\n",
       "  </thead>\n",
       "  <tbody>\n",
       "    <tr>\n",
       "      <th>0</th>\n",
       "      <td>2019-08-01</td>\n",
       "      <td>A</td>\n",
       "      <td>719</td>\n",
       "    </tr>\n",
       "    <tr>\n",
       "      <th>1</th>\n",
       "      <td>2019-08-02</td>\n",
       "      <td>A</td>\n",
       "      <td>619</td>\n",
       "    </tr>\n",
       "    <tr>\n",
       "      <th>2</th>\n",
       "      <td>2019-08-03</td>\n",
       "      <td>A</td>\n",
       "      <td>507</td>\n",
       "    </tr>\n",
       "    <tr>\n",
       "      <th>3</th>\n",
       "      <td>2019-08-04</td>\n",
       "      <td>A</td>\n",
       "      <td>717</td>\n",
       "    </tr>\n",
       "    <tr>\n",
       "      <th>4</th>\n",
       "      <td>2019-08-05</td>\n",
       "      <td>A</td>\n",
       "      <td>756</td>\n",
       "    </tr>\n",
       "  </tbody>\n",
       "</table>\n",
       "</div>"
      ],
      "text/plain": [
       "         date group  visitors\n",
       "0  2019-08-01     A       719\n",
       "1  2019-08-02     A       619\n",
       "2  2019-08-03     A       507\n",
       "3  2019-08-04     A       717\n",
       "4  2019-08-05     A       756"
      ]
     },
     "execution_count": 12,
     "metadata": {},
     "output_type": "execute_result"
    }
   ],
   "source": [
    "visitors.head()"
   ]
  },
  {
   "cell_type": "markdown",
   "metadata": {},
   "source": [
    "В обоих датасетах в стобце date тип данных object. Изменим его на datetime для дальнейшей работы с данными:"
   ]
  },
  {
   "cell_type": "code",
   "execution_count": 13,
   "metadata": {},
   "outputs": [],
   "source": [
    "orders['date'] = orders['date'].map(lambda x: dt.datetime.strptime(x, '%Y-%m-%d'))\n",
    "\n",
    "visitors['date'] = visitors['date'].map(lambda x: dt.datetime.strptime(x, '%Y-%m-%d'))"
   ]
  },
  {
   "cell_type": "code",
   "execution_count": 14,
   "metadata": {},
   "outputs": [
    {
     "name": "stdout",
     "output_type": "stream",
     "text": [
      "<class 'pandas.core.frame.DataFrame'>\n",
      "RangeIndex: 1197 entries, 0 to 1196\n",
      "Data columns (total 5 columns):\n",
      " #   Column         Non-Null Count  Dtype         \n",
      "---  ------         --------------  -----         \n",
      " 0   transactionId  1197 non-null   int64         \n",
      " 1   visitorId      1197 non-null   int64         \n",
      " 2   date           1197 non-null   datetime64[ns]\n",
      " 3   revenue        1197 non-null   int64         \n",
      " 4   group          1197 non-null   object        \n",
      "dtypes: datetime64[ns](1), int64(3), object(1)\n",
      "memory usage: 46.9+ KB\n"
     ]
    }
   ],
   "source": [
    "orders.info()"
   ]
  },
  {
   "cell_type": "code",
   "execution_count": 15,
   "metadata": {},
   "outputs": [
    {
     "name": "stdout",
     "output_type": "stream",
     "text": [
      "<class 'pandas.core.frame.DataFrame'>\n",
      "RangeIndex: 62 entries, 0 to 61\n",
      "Data columns (total 3 columns):\n",
      " #   Column    Non-Null Count  Dtype         \n",
      "---  ------    --------------  -----         \n",
      " 0   date      62 non-null     datetime64[ns]\n",
      " 1   group     62 non-null     object        \n",
      " 2   visitors  62 non-null     int64         \n",
      "dtypes: datetime64[ns](1), int64(1), object(1)\n",
      "memory usage: 1.6+ KB\n"
     ]
    }
   ],
   "source": [
    "visitors.info()"
   ]
  },
  {
   "cell_type": "markdown",
   "metadata": {},
   "source": [
    "Отлично! Осталось проверить данные на наличие дубликатов:"
   ]
  },
  {
   "cell_type": "code",
   "execution_count": 16,
   "metadata": {},
   "outputs": [
    {
     "data": {
      "text/plain": [
       "0"
      ]
     },
     "execution_count": 16,
     "metadata": {},
     "output_type": "execute_result"
    }
   ],
   "source": [
    "orders.duplicated().sum()"
   ]
  },
  {
   "cell_type": "code",
   "execution_count": 17,
   "metadata": {
    "scrolled": true
   },
   "outputs": [
    {
     "data": {
      "text/plain": [
       "0"
      ]
     },
     "execution_count": 17,
     "metadata": {},
     "output_type": "execute_result"
    }
   ],
   "source": [
    "visitors.duplicated().sum()"
   ]
  },
  {
   "cell_type": "markdown",
   "metadata": {},
   "source": [
    "Все данные проверены, они корректны, дубликаты не выявлены. В процессе предобработки только изменили тип данных в датах. Можем продолжать работу."
   ]
  },
  {
   "cell_type": "markdown",
   "metadata": {},
   "source": [
    "Проверим есть ли пропуски в загруженных данных:"
   ]
  },
  {
   "cell_type": "code",
   "execution_count": 18,
   "metadata": {},
   "outputs": [
    {
     "data": {
      "text/plain": [
       "date        0\n",
       "group       0\n",
       "visitors    0\n",
       "dtype: int64"
      ]
     },
     "execution_count": 18,
     "metadata": {},
     "output_type": "execute_result"
    }
   ],
   "source": [
    "visitors.isnull().sum()"
   ]
  },
  {
   "cell_type": "code",
   "execution_count": 19,
   "metadata": {},
   "outputs": [
    {
     "data": {
      "text/plain": [
       "transactionId    0\n",
       "visitorId        0\n",
       "date             0\n",
       "revenue          0\n",
       "group            0\n",
       "dtype: int64"
      ]
     },
     "execution_count": 19,
     "metadata": {},
     "output_type": "execute_result"
    }
   ],
   "source": [
    "orders.isnull().sum()"
   ]
  },
  {
   "cell_type": "markdown",
   "metadata": {},
   "source": [
    "Далее проверим, есть ли в таблице orders пользователи, которые могли оказать сразу в 2-х группах:"
   ]
  },
  {
   "cell_type": "code",
   "execution_count": 20,
   "metadata": {},
   "outputs": [
    {
     "data": {
      "text/plain": [
       "transactionId    1197\n",
       "visitorId        1031\n",
       "date               31\n",
       "revenue           713\n",
       "group               2\n",
       "dtype: int64"
      ]
     },
     "execution_count": 20,
     "metadata": {},
     "output_type": "execute_result"
    }
   ],
   "source": [
    "orders.nunique()"
   ]
  },
  {
   "cell_type": "markdown",
   "metadata": {},
   "source": [
    "Общее кол-во уникальных пользователей в 2-х группах:"
   ]
  },
  {
   "cell_type": "code",
   "execution_count": 21,
   "metadata": {},
   "outputs": [
    {
     "data": {
      "text/html": [
       "<div>\n",
       "<style scoped>\n",
       "    .dataframe tbody tr th:only-of-type {\n",
       "        vertical-align: middle;\n",
       "    }\n",
       "\n",
       "    .dataframe tbody tr th {\n",
       "        vertical-align: top;\n",
       "    }\n",
       "\n",
       "    .dataframe thead th {\n",
       "        text-align: right;\n",
       "    }\n",
       "</style>\n",
       "<table border=\"1\" class=\"dataframe\">\n",
       "  <thead>\n",
       "    <tr style=\"text-align: right;\">\n",
       "      <th></th>\n",
       "      <th>visitorId</th>\n",
       "    </tr>\n",
       "    <tr>\n",
       "      <th>group</th>\n",
       "      <th></th>\n",
       "    </tr>\n",
       "  </thead>\n",
       "  <tbody>\n",
       "    <tr>\n",
       "      <th>A</th>\n",
       "      <td>503</td>\n",
       "    </tr>\n",
       "    <tr>\n",
       "      <th>B</th>\n",
       "      <td>586</td>\n",
       "    </tr>\n",
       "  </tbody>\n",
       "</table>\n",
       "</div>"
      ],
      "text/plain": [
       "       visitorId\n",
       "group           \n",
       "A            503\n",
       "B            586"
      ]
     },
     "execution_count": 21,
     "metadata": {},
     "output_type": "execute_result"
    }
   ],
   "source": [
    "orders.groupby('group').agg({'visitorId' : 'nunique'})"
   ]
  },
  {
   "cell_type": "markdown",
   "metadata": {},
   "source": [
    "Кол-во уникальных пользователей, оказавшихся в обеих группах сразу:"
   ]
  },
  {
   "cell_type": "code",
   "execution_count": 22,
   "metadata": {},
   "outputs": [
    {
     "data": {
      "text/plain": [
       "58"
      ]
     },
     "execution_count": 22,
     "metadata": {},
     "output_type": "execute_result"
    }
   ],
   "source": [
    "unique_visitors = orders.loc[:, ['visitorId', 'group']].drop_duplicates().drop(columns=['group'])\n",
    "\n",
    "unique_visitors['visitorId'].duplicated().sum()"
   ]
  },
  {
   "cell_type": "markdown",
   "metadata": {},
   "source": [
    "Все данные проверены, они корректны, дубликаты не выявлены, пропуски не обнаружены.\n",
    "\n",
    "В процессе предобработки был изменен тип данных в датах на datetime. \n",
    "\n",
    "Сравнение уникальных пользователей в таблице orders выявило следующие различия:\n",
    "- В таблице В на 83 уникальных пользователя больше.\n",
    "- В группе А и В оказалось 58 одинаковых пользователей одновременно.\n"
   ]
  },
  {
   "cell_type": "markdown",
   "metadata": {},
   "source": [
    "### График кумулятивной выручки по группам"
   ]
  },
  {
   "cell_type": "markdown",
   "metadata": {},
   "source": [
    "Рассчитаем медианную выручку за день в каждой группе, чтобы иметь представление о выручке за день:"
   ]
  },
  {
   "cell_type": "code",
   "execution_count": 23,
   "metadata": {},
   "outputs": [
    {
     "data": {
      "text/plain": [
       "group\n",
       "A    112473\n",
       "B    147274\n",
       "Name: revenue, dtype: int64"
      ]
     },
     "execution_count": 23,
     "metadata": {},
     "output_type": "execute_result"
    }
   ],
   "source": [
    "orders.groupby(['date','group'])['revenue'].sum().groupby('group').median()"
   ]
  },
  {
   "cell_type": "markdown",
   "metadata": {},
   "source": [
    "Создадим таблицу cumulativeData, объединяющую данныые по обеим таблицам:"
   ]
  },
  {
   "cell_type": "code",
   "execution_count": 24,
   "metadata": {},
   "outputs": [
    {
     "data": {
      "text/html": [
       "<div>\n",
       "<style scoped>\n",
       "    .dataframe tbody tr th:only-of-type {\n",
       "        vertical-align: middle;\n",
       "    }\n",
       "\n",
       "    .dataframe tbody tr th {\n",
       "        vertical-align: top;\n",
       "    }\n",
       "\n",
       "    .dataframe thead th {\n",
       "        text-align: right;\n",
       "    }\n",
       "</style>\n",
       "<table border=\"1\" class=\"dataframe\">\n",
       "  <thead>\n",
       "    <tr style=\"text-align: right;\">\n",
       "      <th></th>\n",
       "      <th>date</th>\n",
       "      <th>group</th>\n",
       "      <th>orders</th>\n",
       "      <th>buyers</th>\n",
       "      <th>revenue</th>\n",
       "      <th>visitors</th>\n",
       "    </tr>\n",
       "  </thead>\n",
       "  <tbody>\n",
       "    <tr>\n",
       "      <th>0</th>\n",
       "      <td>2019-08-01</td>\n",
       "      <td>A</td>\n",
       "      <td>24</td>\n",
       "      <td>20</td>\n",
       "      <td>148579</td>\n",
       "      <td>719</td>\n",
       "    </tr>\n",
       "    <tr>\n",
       "      <th>1</th>\n",
       "      <td>2019-08-01</td>\n",
       "      <td>B</td>\n",
       "      <td>21</td>\n",
       "      <td>20</td>\n",
       "      <td>101217</td>\n",
       "      <td>713</td>\n",
       "    </tr>\n",
       "    <tr>\n",
       "      <th>2</th>\n",
       "      <td>2019-08-02</td>\n",
       "      <td>A</td>\n",
       "      <td>44</td>\n",
       "      <td>38</td>\n",
       "      <td>242401</td>\n",
       "      <td>1338</td>\n",
       "    </tr>\n",
       "    <tr>\n",
       "      <th>3</th>\n",
       "      <td>2019-08-02</td>\n",
       "      <td>B</td>\n",
       "      <td>45</td>\n",
       "      <td>43</td>\n",
       "      <td>266748</td>\n",
       "      <td>1294</td>\n",
       "    </tr>\n",
       "    <tr>\n",
       "      <th>4</th>\n",
       "      <td>2019-08-03</td>\n",
       "      <td>A</td>\n",
       "      <td>68</td>\n",
       "      <td>62</td>\n",
       "      <td>354874</td>\n",
       "      <td>1845</td>\n",
       "    </tr>\n",
       "  </tbody>\n",
       "</table>\n",
       "</div>"
      ],
      "text/plain": [
       "        date group  orders  buyers  revenue  visitors\n",
       "0 2019-08-01     A      24      20   148579       719\n",
       "1 2019-08-01     B      21      20   101217       713\n",
       "2 2019-08-02     A      44      38   242401      1338\n",
       "3 2019-08-02     B      45      43   266748      1294\n",
       "4 2019-08-03     A      68      62   354874      1845"
      ]
     },
     "execution_count": 24,
     "metadata": {},
     "output_type": "execute_result"
    }
   ],
   "source": [
    "datesGroups = orders[['date','group']].drop_duplicates()\n",
    "\n",
    "ordersAggregated = datesGroups.apply(lambda x: orders[np.logical_and(orders['date'] <= x['date'], orders['group'] == x['group'])]. \\\n",
    "                                     agg({'date' : 'max', \n",
    "                                          'group' : 'max', \n",
    "                                          'transactionId' : pd.Series.nunique, \n",
    "                                          'visitorId' : pd.Series.nunique, \n",
    "                                          'revenue' : 'sum'}), axis=1).sort_values(by=['date','group'])\n",
    "\n",
    "visitorsAggregated = datesGroups.apply(lambda x: visitors[np.logical_and(visitors['date'] <= x['date'], visitors['group'] == x['group'])]. \\\n",
    "                                       agg({'date' : 'max', \n",
    "                                            'group' : 'max', \n",
    "                                            'visitors' : 'sum'}), axis=1).sort_values(by=['date','group'])\n",
    "\n",
    "cumulativeData = ordersAggregated.merge(visitorsAggregated, left_on=['date', 'group'], right_on=['date', 'group'])\n",
    "cumulativeData.columns = ['date', 'group', 'orders', 'buyers', 'revenue', 'visitors']\n",
    "\n",
    "cumulativeData.head(5)"
   ]
  },
  {
   "cell_type": "markdown",
   "metadata": {},
   "source": [
    "Построим график кумулятивной выручки по группам."
   ]
  },
  {
   "cell_type": "code",
   "execution_count": 25,
   "metadata": {},
   "outputs": [
    {
     "data": {
      "image/png": "[encoded data removed]",
      "text/plain": [
       "<Figure size 720x288 with 1 Axes>"
      ]
     },
     "metadata": {
      "needs_background": "light"
     },
     "output_type": "display_data"
    }
   ],
   "source": [
    "cumulativeDataA = cumulativeData[cumulativeData['group']=='A']\n",
    "cumulativeDataB = cumulativeData[cumulativeData['group']=='B']\n",
    "plt.figure(figsize=(10,4))\n",
    "plt.plot(cumulativeDataA['date'], cumulativeDataA['revenue'], label = 'A')\n",
    "plt.plot(cumulativeDataB['date'], cumulativeDataB['revenue'], label = 'B')\n",
    "plt.ylabel('Выручка')\n",
    "plt.xlabel('Дата')\n",
    "plt.title('Графики кумулятивной выручки по группам A/B')\n",
    "plt.legend()\n",
    "plt.show()"
   ]
  },
  {
   "cell_type": "markdown",
   "metadata": {},
   "source": [
    "Из графика видно, что выручка группы В растет быстрее, чем группы А. Всплеск произошел 19 августа, это могло произойти из-за крупного заказа или большего кол-ва заказов. В остальном, графики показывают похожий рост."
   ]
  },
  {
   "cell_type": "markdown",
   "metadata": {},
   "source": [
    "### График кумулятивного среднего чека по группам"
   ]
  },
  {
   "cell_type": "code",
   "execution_count": 26,
   "metadata": {},
   "outputs": [
    {
     "data": {
      "image/png": "[encoded data removed]",
      "text/plain": [
       "<Figure size 720x288 with 1 Axes>"
      ]
     },
     "metadata": {
      "needs_background": "light"
     },
     "output_type": "display_data"
    }
   ],
   "source": [
    "plt.figure(figsize=(10,4))\n",
    "plt.plot(cumulativeDataA['date'], cumulativeDataA['revenue']/cumulativeDataA['orders'], label = 'A')\n",
    "plt.plot(cumulativeDataB['date'], cumulativeDataB['revenue']/cumulativeDataB['orders'], label = 'B')\n",
    "plt.title('Графики кумулятивного среднего чека по группам A/B')\n",
    "plt.ylabel('Средний чек')\n",
    "plt.xlabel('Дата')\n",
    "plt.legend()\n",
    "plt.show()"
   ]
  },
  {
   "cell_type": "markdown",
   "metadata": {},
   "source": [
    "Как мы видим, средний чек в группе В был, практически, все время выше, чем в группе А. Так же на графике видно резкое увеличение ср. чека, как и в случае с графиком кумулятивной выручки. \n",
    "\n",
    "Стоит рассмотреть подробнее эту аномалию."
   ]
  },
  {
   "cell_type": "code",
   "execution_count": 27,
   "metadata": {},
   "outputs": [
    {
     "data": {
      "text/html": [
       "<div>\n",
       "<style scoped>\n",
       "    .dataframe tbody tr th:only-of-type {\n",
       "        vertical-align: middle;\n",
       "    }\n",
       "\n",
       "    .dataframe tbody tr th {\n",
       "        vertical-align: top;\n",
       "    }\n",
       "\n",
       "    .dataframe thead th {\n",
       "        text-align: right;\n",
       "    }\n",
       "</style>\n",
       "<table border=\"1\" class=\"dataframe\">\n",
       "  <thead>\n",
       "    <tr style=\"text-align: right;\">\n",
       "      <th></th>\n",
       "      <th>date</th>\n",
       "      <th>group</th>\n",
       "      <th>orders</th>\n",
       "      <th>buyers</th>\n",
       "      <th>revenue</th>\n",
       "      <th>visitors</th>\n",
       "    </tr>\n",
       "  </thead>\n",
       "  <tbody>\n",
       "    <tr>\n",
       "      <th>33</th>\n",
       "      <td>2019-08-17</td>\n",
       "      <td>B</td>\n",
       "      <td>373</td>\n",
       "      <td>349</td>\n",
       "      <td>2620790</td>\n",
       "      <td>10434</td>\n",
       "    </tr>\n",
       "    <tr>\n",
       "      <th>35</th>\n",
       "      <td>2019-08-18</td>\n",
       "      <td>B</td>\n",
       "      <td>382</td>\n",
       "      <td>357</td>\n",
       "      <td>2686621</td>\n",
       "      <td>11171</td>\n",
       "    </tr>\n",
       "    <tr>\n",
       "      <th>37</th>\n",
       "      <td>2019-08-19</td>\n",
       "      <td>B</td>\n",
       "      <td>403</td>\n",
       "      <td>377</td>\n",
       "      <td>4116541</td>\n",
       "      <td>11658</td>\n",
       "    </tr>\n",
       "    <tr>\n",
       "      <th>39</th>\n",
       "      <td>2019-08-20</td>\n",
       "      <td>B</td>\n",
       "      <td>423</td>\n",
       "      <td>396</td>\n",
       "      <td>4263815</td>\n",
       "      <td>12218</td>\n",
       "    </tr>\n",
       "    <tr>\n",
       "      <th>41</th>\n",
       "      <td>2019-08-21</td>\n",
       "      <td>B</td>\n",
       "      <td>437</td>\n",
       "      <td>407</td>\n",
       "      <td>4426892</td>\n",
       "      <td>12874</td>\n",
       "    </tr>\n",
       "  </tbody>\n",
       "</table>\n",
       "</div>"
      ],
      "text/plain": [
       "         date group  orders  buyers  revenue  visitors\n",
       "33 2019-08-17     B     373     349  2620790     10434\n",
       "35 2019-08-18     B     382     357  2686621     11171\n",
       "37 2019-08-19     B     403     377  4116541     11658\n",
       "39 2019-08-20     B     423     396  4263815     12218\n",
       "41 2019-08-21     B     437     407  4426892     12874"
      ]
     },
     "execution_count": 27,
     "metadata": {},
     "output_type": "execute_result"
    }
   ],
   "source": [
    "cumulativeDataB.query(' \"2019-08-17\" <= date <= \"2019-08-21\" ')"
   ]
  },
  {
   "cell_type": "markdown",
   "metadata": {},
   "source": [
    "Кол-во заказов, покупателей и посетителей 19 августа примерно одинаково с остальными днями, во всяком случае аномалий здесь не наблюдается.\n",
    "\n",
    "Посмотрим на медианное значение стоимости заказа 19 августа:"
   ]
  },
  {
   "cell_type": "code",
   "execution_count": 28,
   "metadata": {},
   "outputs": [
    {
     "data": {
      "text/plain": [
       "2630.0"
      ]
     },
     "execution_count": 28,
     "metadata": {},
     "output_type": "execute_result"
    }
   ],
   "source": [
    "orders.query(' date == \"2019-08-19\" ')['revenue'].median()"
   ]
  },
  {
   "cell_type": "markdown",
   "metadata": {},
   "source": [
    "Расмотрим все заказы, сделанные в эту дату:"
   ]
  },
  {
   "cell_type": "code",
   "execution_count": 29,
   "metadata": {},
   "outputs": [
    {
     "data": {
      "text/html": [
       "<div>\n",
       "<style scoped>\n",
       "    .dataframe tbody tr th:only-of-type {\n",
       "        vertical-align: middle;\n",
       "    }\n",
       "\n",
       "    .dataframe tbody tr th {\n",
       "        vertical-align: top;\n",
       "    }\n",
       "\n",
       "    .dataframe thead th {\n",
       "        text-align: right;\n",
       "    }\n",
       "</style>\n",
       "<table border=\"1\" class=\"dataframe\">\n",
       "  <thead>\n",
       "    <tr style=\"text-align: right;\">\n",
       "      <th></th>\n",
       "      <th>transactionId</th>\n",
       "      <th>visitorId</th>\n",
       "      <th>date</th>\n",
       "      <th>revenue</th>\n",
       "      <th>group</th>\n",
       "    </tr>\n",
       "  </thead>\n",
       "  <tbody>\n",
       "    <tr>\n",
       "      <th>425</th>\n",
       "      <td>590470918</td>\n",
       "      <td>1920142716</td>\n",
       "      <td>2019-08-19</td>\n",
       "      <td>1294500</td>\n",
       "      <td>B</td>\n",
       "    </tr>\n",
       "    <tr>\n",
       "      <th>530</th>\n",
       "      <td>3970235543</td>\n",
       "      <td>2912540959</td>\n",
       "      <td>2019-08-19</td>\n",
       "      <td>43990</td>\n",
       "      <td>A</td>\n",
       "    </tr>\n",
       "    <tr>\n",
       "      <th>527</th>\n",
       "      <td>1570513684</td>\n",
       "      <td>2837914161</td>\n",
       "      <td>2019-08-19</td>\n",
       "      <td>33405</td>\n",
       "      <td>B</td>\n",
       "    </tr>\n",
       "    <tr>\n",
       "      <th>421</th>\n",
       "      <td>3765974140</td>\n",
       "      <td>1357170471</td>\n",
       "      <td>2019-08-19</td>\n",
       "      <td>31680</td>\n",
       "      <td>A</td>\n",
       "    </tr>\n",
       "    <tr>\n",
       "      <th>461</th>\n",
       "      <td>2683113224</td>\n",
       "      <td>154576532</td>\n",
       "      <td>2019-08-19</td>\n",
       "      <td>26550</td>\n",
       "      <td>B</td>\n",
       "    </tr>\n",
       "    <tr>\n",
       "      <th>525</th>\n",
       "      <td>3031564664</td>\n",
       "      <td>393266494</td>\n",
       "      <td>2019-08-19</td>\n",
       "      <td>21550</td>\n",
       "      <td>A</td>\n",
       "    </tr>\n",
       "    <tr>\n",
       "      <th>368</th>\n",
       "      <td>3268879337</td>\n",
       "      <td>2536252163</td>\n",
       "      <td>2019-08-19</td>\n",
       "      <td>20026</td>\n",
       "      <td>B</td>\n",
       "    </tr>\n",
       "    <tr>\n",
       "      <th>366</th>\n",
       "      <td>2037051350</td>\n",
       "      <td>1957949546</td>\n",
       "      <td>2019-08-19</td>\n",
       "      <td>16770</td>\n",
       "      <td>A</td>\n",
       "    </tr>\n",
       "    <tr>\n",
       "      <th>463</th>\n",
       "      <td>4170537404</td>\n",
       "      <td>290022471</td>\n",
       "      <td>2019-08-19</td>\n",
       "      <td>16480</td>\n",
       "      <td>B</td>\n",
       "    </tr>\n",
       "    <tr>\n",
       "      <th>531</th>\n",
       "      <td>4016435970</td>\n",
       "      <td>4017075195</td>\n",
       "      <td>2019-08-19</td>\n",
       "      <td>13390</td>\n",
       "      <td>A</td>\n",
       "    </tr>\n",
       "  </tbody>\n",
       "</table>\n",
       "</div>"
      ],
      "text/plain": [
       "     transactionId   visitorId       date  revenue group\n",
       "425      590470918  1920142716 2019-08-19  1294500     B\n",
       "530     3970235543  2912540959 2019-08-19    43990     A\n",
       "527     1570513684  2837914161 2019-08-19    33405     B\n",
       "421     3765974140  1357170471 2019-08-19    31680     A\n",
       "461     2683113224   154576532 2019-08-19    26550     B\n",
       "525     3031564664   393266494 2019-08-19    21550     A\n",
       "368     3268879337  2536252163 2019-08-19    20026     B\n",
       "366     2037051350  1957949546 2019-08-19    16770     A\n",
       "463     4170537404   290022471 2019-08-19    16480     B\n",
       "531     4016435970  4017075195 2019-08-19    13390     A"
      ]
     },
     "execution_count": 29,
     "metadata": {},
     "output_type": "execute_result"
    }
   ],
   "source": [
    "orders.query(' date == \"2019-08-19\" ').sort_values(by='revenue', ascending=False).head(10)"
   ]
  },
  {
   "cell_type": "markdown",
   "metadata": {},
   "source": [
    "Аномалия найдена: заказ 425 в группе В превышает медианное значение заказов в эту дату в 49 раз и равен 1294500. Следовательно этот заказ можем считать выбросом."
   ]
  },
  {
   "cell_type": "markdown",
   "metadata": {},
   "source": [
    "### График относительного изменения кумулятивного среднего чека "
   ]
  },
  {
   "cell_type": "code",
   "execution_count": 30,
   "metadata": {},
   "outputs": [
    {
     "data": {
      "image/png": "[encoded data removed]",
      "text/plain": [
       "<Figure size 1080x360 with 1 Axes>"
      ]
     },
     "metadata": {
      "needs_background": "light"
     },
     "output_type": "display_data"
    }
   ],
   "source": [
    "mergedCumulativeRevenue = cumulativeDataA.merge(cumulativeDataB, left_on='date', right_on='date', how='left', suffixes=['A', 'B'])\n",
    "\n",
    "plt.figure(figsize=(15,5))\n",
    "plt.grid()\n",
    "plt.plot(mergedCumulativeRevenue['date'], (mergedCumulativeRevenue['revenueB']/mergedCumulativeRevenue['ordersB'])/ \\\n",
    "         (mergedCumulativeRevenue['revenueA']/mergedCumulativeRevenue['ordersA'])-1)\n",
    "plt.title('Относительное изменение кумулятивного среднего чека групп \"B\" к \"А\"')\n",
    "plt.axhline(y=0, color='black', linestyle='--') ;"
   ]
  },
  {
   "cell_type": "markdown",
   "metadata": {},
   "source": [
    "Выводы будут аналогичны пункту 2.2. Средний чек \"B\" рос с 1 августа, 2 августа уже превысил \"A\" и рос до 7 августа. 7-8 пошло обратное движение до 13 августа, причем 3 дня 12-14 августа средний чек \"A\" был больше \"B\". С 13 чек \"B\" опять начал расти и уже 15 числа наступил переломный момент и на следующий день чек \"B\" оказался больше и находился больше \"A\" до конца месяца. Так же, в этом графике прослеживается влияние заказа 425 от 19 августа."
   ]
  },
  {
   "cell_type": "markdown",
   "metadata": {},
   "source": [
    "### График кумулятивного среднего количества заказов на посетителя по группам"
   ]
  },
  {
   "cell_type": "code",
   "execution_count": 31,
   "metadata": {},
   "outputs": [
    {
     "data": {
      "image/png": "[encoded data removed]",
      "text/plain": [
       "<Figure size 1080x360 with 1 Axes>"
      ]
     },
     "metadata": {
      "needs_background": "light"
     },
     "output_type": "display_data"
    }
   ],
   "source": [
    "cumulativeData['average_orders'] = cumulativeData['orders']/cumulativeData['visitors']\n",
    "\n",
    "cumulativeDataA = cumulativeData[cumulativeData['group']=='A']\n",
    "cumulativeDataB = cumulativeData[cumulativeData['group']=='B']\n",
    "\n",
    "plt.figure(figsize=(15,5))\n",
    "plt.grid()\n",
    "plt.plot(cumulativeDataA['date'], cumulativeDataA['average_orders'], label='кумулятивное кол-во заказов группы A')\n",
    "plt.plot(cumulativeDataB['date'], cumulativeDataB['average_orders'], label='кумулятивное кол-во заказов группы B')\n",
    "plt.title('Кумулятивное среднее кол-ва заказов')\n",
    "plt.legend();"
   ]
  },
  {
   "cell_type": "markdown",
   "metadata": {},
   "source": [
    "По графику мы видим, что среднее кол-во заказов в группе В было выше, чем в группе А практически с самого начала месяца, а именно 6 августа произошел \"переломный\" момент. Далее среднее число заказов в группе А пошло на спад, а в В наоборот - продолжило расти."
   ]
  },
  {
   "cell_type": "markdown",
   "metadata": {},
   "source": [
    "### График относительного изменения кумулятивного среднего количества заказов на посетителя группы B к группе A."
   ]
  },
  {
   "cell_type": "code",
   "execution_count": 32,
   "metadata": {},
   "outputs": [
    {
     "data": {
      "image/png": "[encoded data removed]",
      "text/plain": [
       "<Figure size 1080x360 with 1 Axes>"
      ]
     },
     "metadata": {
      "needs_background": "light"
     },
     "output_type": "display_data"
    }
   ],
   "source": [
    "mergedCumulativeOrders = cumulativeDataA[['date','average_orders']].merge(cumulativeDataB[['date','average_orders']], \\\n",
    "                                                    left_on='date', right_on='date', how='left', suffixes=['A', 'B'])\n",
    "plt.figure(figsize=(15,5))\n",
    "plt.grid()\n",
    "plt.plot(mergedCumulativeOrders['date'], mergedCumulativeOrders['average_ordersB']/mergedCumulativeOrders['average_ordersA']-1, label=\"Относительное изменение кол-ва заказов группы B относительно группы A\")\n",
    "\n",
    "plt.title('Относительное изменение кумулятивного кол-ва заказов группы B к группе A')\n",
    "\n",
    "plt.axhline(y=0, color='black', linestyle='--') \n",
    "plt.axhline(y=0.1, color='grey', linestyle='--')\n",
    "plt.axhline(y=0.21, color='grey', linestyle='--')\n",
    "plt.axhline(y=0.057, color='grey', linestyle='--');"
   ]
  },
  {
   "cell_type": "markdown",
   "metadata": {},
   "source": [
    "Поскольку данный график является производным от графика пункта 2.4, то и выводы тут будут схожими.С начала месяца лидировала группа А, но продолжалось это лишь до 6 числа, далее среднее кол-во заказов было ощутимо больше в группе В."
   ]
  },
  {
   "cell_type": "markdown",
   "metadata": {},
   "source": [
    "### Точечный график количества заказов по пользователям. "
   ]
  },
  {
   "cell_type": "markdown",
   "metadata": {},
   "source": [
    "Для начала создадим таблицу с пользователями и кол-вом совершенных заказов:"
   ]
  },
  {
   "cell_type": "code",
   "execution_count": 33,
   "metadata": {},
   "outputs": [
    {
     "data": {
      "text/html": [
       "<div>\n",
       "<style scoped>\n",
       "    .dataframe tbody tr th:only-of-type {\n",
       "        vertical-align: middle;\n",
       "    }\n",
       "\n",
       "    .dataframe tbody tr th {\n",
       "        vertical-align: top;\n",
       "    }\n",
       "\n",
       "    .dataframe thead th {\n",
       "        text-align: right;\n",
       "    }\n",
       "</style>\n",
       "<table border=\"1\" class=\"dataframe\">\n",
       "  <thead>\n",
       "    <tr style=\"text-align: right;\">\n",
       "      <th></th>\n",
       "      <th>user_id</th>\n",
       "      <th>orders</th>\n",
       "    </tr>\n",
       "  </thead>\n",
       "  <tbody>\n",
       "    <tr>\n",
       "      <th>1023</th>\n",
       "      <td>4256040402</td>\n",
       "      <td>11</td>\n",
       "    </tr>\n",
       "    <tr>\n",
       "      <th>591</th>\n",
       "      <td>2458001652</td>\n",
       "      <td>11</td>\n",
       "    </tr>\n",
       "    <tr>\n",
       "      <th>569</th>\n",
       "      <td>2378935119</td>\n",
       "      <td>9</td>\n",
       "    </tr>\n",
       "    <tr>\n",
       "      <th>487</th>\n",
       "      <td>2038680547</td>\n",
       "      <td>8</td>\n",
       "    </tr>\n",
       "    <tr>\n",
       "      <th>44</th>\n",
       "      <td>199603092</td>\n",
       "      <td>5</td>\n",
       "    </tr>\n",
       "  </tbody>\n",
       "</table>\n",
       "</div>"
      ],
      "text/plain": [
       "         user_id  orders\n",
       "1023  4256040402      11\n",
       "591   2458001652      11\n",
       "569   2378935119       9\n",
       "487   2038680547       8\n",
       "44     199603092       5"
      ]
     },
     "execution_count": 33,
     "metadata": {},
     "output_type": "execute_result"
    }
   ],
   "source": [
    "ordersByUsers = orders.drop(['group', 'revenue', 'date'], axis=1).groupby('visitorId', as_index=False). \\\n",
    "                                                                        agg({'transactionId' : pd.Series.nunique})\n",
    "\n",
    "ordersByUsers.columns = ['user_id','orders']\n",
    "\n",
    "ordersByUsers.sort_values(by='orders',ascending=False).head()"
   ]
  },
  {
   "cell_type": "markdown",
   "metadata": {},
   "source": [
    "Построим гистограмму:"
   ]
  },
  {
   "cell_type": "code",
   "execution_count": 34,
   "metadata": {},
   "outputs": [
    {
     "data": {
      "image/png": "[encoded data removed]",
      "text/plain": [
       "<Figure size 1080x360 with 1 Axes>"
      ]
     },
     "metadata": {
      "needs_background": "light"
     },
     "output_type": "display_data"
    }
   ],
   "source": [
    "plt.figure(figsize=(15,5))\n",
    "plt.hist(ordersByUsers['orders'], bins = 10)\n",
    "plt.title('Гистрограмма распределения количества заказов на одного пользователя')\n",
    "plt.show()"
   ]
  },
  {
   "cell_type": "markdown",
   "metadata": {},
   "source": [
    "Из графика видим, что большинство пользователей совершили 1 заказ, тех, кто сделал 2 заказа гораздо меньше. И далее с кол-вом совершенных заказов уменьшается кол-во пользователей.Есть заметная доля клиентов, сделавших 10 заказов и более. Расчитаем перцентили, чтобы понять выбросы это или нет."
   ]
  },
  {
   "cell_type": "markdown",
   "metadata": {},
   "source": [
    "### 95-й и 99-й перцентили количества заказов на пользователя. "
   ]
  },
  {
   "cell_type": "markdown",
   "metadata": {},
   "source": [
    "Перцентили 95 и 99 по заказам пользователей:"
   ]
  },
  {
   "cell_type": "code",
   "execution_count": 35,
   "metadata": {},
   "outputs": [
    {
     "data": {
      "text/plain": [
       "array([2., 4.])"
      ]
     },
     "execution_count": 35,
     "metadata": {},
     "output_type": "execute_result"
    }
   ],
   "source": [
    "np.percentile(ordersByUsers['orders'], [95, 99])"
   ]
  },
  {
   "cell_type": "markdown",
   "metadata": {},
   "source": [
    "Для большей точности и наглдности, можем расчитать все перцентили с 95 по 99:"
   ]
  },
  {
   "cell_type": "code",
   "execution_count": 36,
   "metadata": {},
   "outputs": [
    {
     "data": {
      "text/plain": [
       "array([2., 2., 2., 3., 4.])"
      ]
     },
     "execution_count": 36,
     "metadata": {},
     "output_type": "execute_result"
    }
   ],
   "source": [
    "np.percentile(ordersByUsers['orders'], [95,96,97,98, 99])"
   ]
  },
  {
   "cell_type": "markdown",
   "metadata": {},
   "source": [
    "Вывод: как и предполагалось, большинство пользователей, то есть порядка 98%, совершают не более 2-х заказов. Все что выше - можно считать аномалией."
   ]
  },
  {
   "cell_type": "markdown",
   "metadata": {},
   "source": [
    "### Точечный график стоимостей заказов."
   ]
  },
  {
   "cell_type": "code",
   "execution_count": 37,
   "metadata": {},
   "outputs": [
    {
     "data": {
      "image/png": "[encoded data removed]",
      "text/plain": [
       "<Figure size 1080x360 with 1 Axes>"
      ]
     },
     "metadata": {
      "needs_background": "light"
     },
     "output_type": "display_data"
    }
   ],
   "source": [
    "x_values = pd.Series(range(0,len(orders['revenue'])))\n",
    "plt.figure(figsize=(15,5))\n",
    "plt.grid()\n",
    "plt.title('График стоимостей заказов')\n",
    "plt.scatter(x_values, orders['revenue'], alpha=0.5);"
   ]
  },
  {
   "cell_type": "markdown",
   "metadata": {},
   "source": [
    "На графике хорошо виден тот самы аномальный заказ стоимостью 1,3 млн, так же заметен заказ стоимостью около 200 тыс.\n",
    "Стоимость остальных заказов находится в границе 100 тыс.\n",
    "Для больше точности стоит расчитать перцентили стоимости заказов."
   ]
  },
  {
   "cell_type": "markdown",
   "metadata": {},
   "source": [
    "###  95-й и 99-й перцентили стоимости заказов."
   ]
  },
  {
   "cell_type": "code",
   "execution_count": 38,
   "metadata": {},
   "outputs": [
    {
     "data": {
      "text/plain": [
       "array([28000. , 58233.2])"
      ]
     },
     "execution_count": 38,
     "metadata": {},
     "output_type": "execute_result"
    }
   ],
   "source": [
    "np.percentile(orders['revenue'], [95, 99])"
   ]
  },
  {
   "cell_type": "markdown",
   "metadata": {},
   "source": [
    "Благодаря расчету, мы можем сделать вывод, что только у 5% заказов стоимость превышает 28 тысяч."
   ]
  },
  {
   "cell_type": "markdown",
   "metadata": {},
   "source": [
    "### Статистическая значимость различий в среднем количестве заказов на посетителя между группами по «сырым» данным."
   ]
  },
  {
   "cell_type": "markdown",
   "metadata": {},
   "source": [
    "Данные по заказам и визитам объединим в одну таблицу. Прежде создадим несколько новых таблиц, а после объединим их."
   ]
  },
  {
   "cell_type": "code",
   "execution_count": 39,
   "metadata": {},
   "outputs": [],
   "source": [
    "visitorsADaily = visitors[visitors['group']=='A'][['date', 'visitors']]\n",
    "visitorsADaily.columns = ['date', 'visitorsPerDateA']\n",
    "\n",
    "visitorsACummulative = visitorsADaily.apply(lambda x: visitorsADaily[visitorsADaily['date'] <= x['date']]. \\\n",
    "                                            agg({'date' : 'max', 'visitorsPerDateA' : 'sum'}), axis=1)\n",
    "visitorsACummulative.columns = ['date', 'visitorsCummulativeA']\n",
    "\n",
    "visitorsBDaily = visitors[visitors['group']=='B'][['date', 'visitors']]\n",
    "visitorsBDaily.columns = ['date', 'visitorsPerDateB']\n",
    "\n",
    "visitorsBCummulative = visitorsBDaily.apply(lambda x: visitorsBDaily[visitorsBDaily['date'] <= x['date']]. \\\n",
    "                                            agg({'date' : 'max', 'visitorsPerDateB' : 'sum'}), axis=1)\n",
    "visitorsBCummulative.columns = ['date', 'visitorsCummulativeB']\n",
    "\n",
    "\n",
    "ordersADaily = orders[orders['group']=='A'][['date', 'transactionId', 'visitorId', 'revenue']]\\\n",
    "    .groupby('date', as_index=False)\\\n",
    "    .agg({'transactionId' : pd.Series.nunique, 'revenue' : 'sum'})\n",
    "ordersADaily.columns = ['date', 'ordersPerDateA', 'revenuePerDateA']\n",
    "\n",
    "ordersACummulative = ordersADaily.apply(\n",
    "    lambda x: \\\n",
    "        ordersADaily[ordersADaily['date'] <= x['date']]\\\n",
    "            .agg({\n",
    "                'date' : 'max',\n",
    "                'ordersPerDateA' : 'sum',\n",
    "                'revenuePerDateA' : 'sum'}), axis=1).sort_values(by=['date'])\n",
    "ordersACummulative.columns = ['date', 'ordersCummulativeA', 'revenueCummulativeA']\n",
    "\n",
    "ordersBDaily = orders[orders['group']=='B'][['date', 'transactionId', 'visitorId', 'revenue']]\\\n",
    "    .groupby('date', as_index=False)\\\n",
    "    .agg({'transactionId' : pd.Series.nunique, 'revenue' : 'sum'})\n",
    "ordersBDaily.columns = ['date', 'ordersPerDateB', 'revenuePerDateB']\n",
    "\n",
    "ordersBCummulative = ordersBDaily.apply(\n",
    "    lambda x: \\\n",
    "        ordersBDaily[ordersBDaily['date'] <= x['date']]\\\n",
    "            .agg({\n",
    "                'date' : 'max',\n",
    "                'ordersPerDateB' : 'sum',\n",
    "                'revenuePerDateB' : 'sum'}), axis=1).sort_values(by=['date'])\n",
    "ordersBCummulative.columns = ['date', 'ordersCummulativeB', 'revenueCummulativeB']"
   ]
  },
  {
   "cell_type": "markdown",
   "metadata": {},
   "source": [
    "Объединим все в одну таблицу:"
   ]
  },
  {
   "cell_type": "code",
   "execution_count": 40,
   "metadata": {},
   "outputs": [
    {
     "data": {
      "text/html": [
       "<div>\n",
       "<style scoped>\n",
       "    .dataframe tbody tr th:only-of-type {\n",
       "        vertical-align: middle;\n",
       "    }\n",
       "\n",
       "    .dataframe tbody tr th {\n",
       "        vertical-align: top;\n",
       "    }\n",
       "\n",
       "    .dataframe thead th {\n",
       "        text-align: right;\n",
       "    }\n",
       "</style>\n",
       "<table border=\"1\" class=\"dataframe\">\n",
       "  <thead>\n",
       "    <tr style=\"text-align: right;\">\n",
       "      <th></th>\n",
       "      <th>date</th>\n",
       "      <th>ordersPerDateA</th>\n",
       "      <th>revenuePerDateA</th>\n",
       "      <th>ordersPerDateB</th>\n",
       "      <th>revenuePerDateB</th>\n",
       "      <th>ordersCummulativeA</th>\n",
       "      <th>revenueCummulativeA</th>\n",
       "      <th>ordersCummulativeB</th>\n",
       "      <th>revenueCummulativeB</th>\n",
       "      <th>visitorsPerDateA</th>\n",
       "      <th>visitorsPerDateB</th>\n",
       "      <th>visitorsCummulativeA</th>\n",
       "      <th>visitorsCummulativeB</th>\n",
       "    </tr>\n",
       "  </thead>\n",
       "  <tbody>\n",
       "    <tr>\n",
       "      <th>0</th>\n",
       "      <td>2019-08-01</td>\n",
       "      <td>24</td>\n",
       "      <td>148579</td>\n",
       "      <td>21</td>\n",
       "      <td>101217</td>\n",
       "      <td>24</td>\n",
       "      <td>148579</td>\n",
       "      <td>21</td>\n",
       "      <td>101217</td>\n",
       "      <td>719</td>\n",
       "      <td>713</td>\n",
       "      <td>719</td>\n",
       "      <td>713</td>\n",
       "    </tr>\n",
       "    <tr>\n",
       "      <th>1</th>\n",
       "      <td>2019-08-02</td>\n",
       "      <td>20</td>\n",
       "      <td>93822</td>\n",
       "      <td>24</td>\n",
       "      <td>165531</td>\n",
       "      <td>44</td>\n",
       "      <td>242401</td>\n",
       "      <td>45</td>\n",
       "      <td>266748</td>\n",
       "      <td>619</td>\n",
       "      <td>581</td>\n",
       "      <td>1338</td>\n",
       "      <td>1294</td>\n",
       "    </tr>\n",
       "    <tr>\n",
       "      <th>2</th>\n",
       "      <td>2019-08-03</td>\n",
       "      <td>24</td>\n",
       "      <td>112473</td>\n",
       "      <td>16</td>\n",
       "      <td>114248</td>\n",
       "      <td>68</td>\n",
       "      <td>354874</td>\n",
       "      <td>61</td>\n",
       "      <td>380996</td>\n",
       "      <td>507</td>\n",
       "      <td>509</td>\n",
       "      <td>1845</td>\n",
       "      <td>1803</td>\n",
       "    </tr>\n",
       "    <tr>\n",
       "      <th>3</th>\n",
       "      <td>2019-08-04</td>\n",
       "      <td>16</td>\n",
       "      <td>70825</td>\n",
       "      <td>17</td>\n",
       "      <td>108571</td>\n",
       "      <td>84</td>\n",
       "      <td>425699</td>\n",
       "      <td>78</td>\n",
       "      <td>489567</td>\n",
       "      <td>717</td>\n",
       "      <td>770</td>\n",
       "      <td>2562</td>\n",
       "      <td>2573</td>\n",
       "    </tr>\n",
       "    <tr>\n",
       "      <th>4</th>\n",
       "      <td>2019-08-05</td>\n",
       "      <td>25</td>\n",
       "      <td>124218</td>\n",
       "      <td>23</td>\n",
       "      <td>92428</td>\n",
       "      <td>109</td>\n",
       "      <td>549917</td>\n",
       "      <td>101</td>\n",
       "      <td>581995</td>\n",
       "      <td>756</td>\n",
       "      <td>707</td>\n",
       "      <td>3318</td>\n",
       "      <td>3280</td>\n",
       "    </tr>\n",
       "  </tbody>\n",
       "</table>\n",
       "</div>"
      ],
      "text/plain": [
       "        date  ordersPerDateA  revenuePerDateA  ordersPerDateB  \\\n",
       "0 2019-08-01              24           148579              21   \n",
       "1 2019-08-02              20            93822              24   \n",
       "2 2019-08-03              24           112473              16   \n",
       "3 2019-08-04              16            70825              17   \n",
       "4 2019-08-05              25           124218              23   \n",
       "\n",
       "   revenuePerDateB  ordersCummulativeA  revenueCummulativeA  \\\n",
       "0           101217                  24               148579   \n",
       "1           165531                  44               242401   \n",
       "2           114248                  68               354874   \n",
       "3           108571                  84               425699   \n",
       "4            92428                 109               549917   \n",
       "\n",
       "   ordersCummulativeB  revenueCummulativeB  visitorsPerDateA  \\\n",
       "0                  21               101217               719   \n",
       "1                  45               266748               619   \n",
       "2                  61               380996               507   \n",
       "3                  78               489567               717   \n",
       "4                 101               581995               756   \n",
       "\n",
       "   visitorsPerDateB  visitorsCummulativeA  visitorsCummulativeB  \n",
       "0               713                   719                   713  \n",
       "1               581                  1338                  1294  \n",
       "2               509                  1845                  1803  \n",
       "3               770                  2562                  2573  \n",
       "4               707                  3318                  3280  "
      ]
     },
     "execution_count": 40,
     "metadata": {},
     "output_type": "execute_result"
    }
   ],
   "source": [
    "data = ordersADaily.merge(ordersBDaily, left_on='date', right_on='date', how='left')\\\n",
    "    .merge(ordersACummulative, left_on='date', right_on='date', how='left')\\\n",
    "    .merge(ordersBCummulative, left_on='date', right_on='date', how='left')\\\n",
    "    .merge(visitorsADaily, left_on='date', right_on='date', how='left')\\\n",
    "    .merge(visitorsBDaily, left_on='date', right_on='date', how='left')\\\n",
    "    .merge(visitorsACummulative, left_on='date', right_on='date', how='left')\\\n",
    "    .merge(visitorsBCummulative, left_on='date', right_on='date', how='left')\n",
    "data.head()"
   ]
  },
  {
   "cell_type": "markdown",
   "metadata": {},
   "source": [
    "Чтобы получить конверсию в группе, поделим сумму заказов на число пользователей — найдём среднее в выборке sampleA методом mean(). Аналогично найдём конверсию группы B: SampleB.mean().\n",
    "Выведем относительный прирост конверсии группы B: конверсия группы B / конверсия группы A - 1. Округлим до трёх знаков после запятой (пороговое значение возьмём равное 5%).\n",
    "\n",
    "p-value округлим до трёх знаков после запятой.\n",
    "\n",
    "За нулевую гипотезу возьмём что: \"статистически значимых различий в конверсии между группами нет\", следовательно альтернативная гипотеза будет следующей: \"Статистически значимые различия между группами есть\"."
   ]
  },
  {
   "cell_type": "code",
   "execution_count": 41,
   "metadata": {},
   "outputs": [
    {
     "name": "stdout",
     "output_type": "stream",
     "text": [
      "alpha = 0.05\n",
      "p-value = 0.017\n",
      "Относительный показатель 'B' и 'A' = 0.138\n"
     ]
    }
   ],
   "source": [
    "ordersByUsersA = orders[orders['group']=='A'].groupby('visitorId', as_index=False).agg({'transactionId' : pd.Series.nunique})\n",
    "ordersByUsersA.columns = ['userId', 'orders']\n",
    "\n",
    "ordersByUsersB = orders[orders['group']=='B'].groupby('visitorId', as_index=False).agg({'transactionId' : pd.Series.nunique})\n",
    "ordersByUsersB.columns = ['userId', 'orders']\n",
    "\n",
    "sampleA = pd.concat([ordersByUsersA['orders'],pd.Series(0, index=np.arange(data['visitorsPerDateA'].sum() - len(ordersByUsersA['orders'])), name='orders')],axis=0)\n",
    "\n",
    "sampleB = pd.concat([ordersByUsersB['orders'],pd.Series(0, index=np.arange(data['visitorsPerDateB'].sum() - len(ordersByUsersB['orders'])), name='orders')],axis=0)\n",
    "\n",
    "print('alpha =',0.05)\n",
    "print('p-value = {0:.3f}'.format(st.mannwhitneyu(sampleA, sampleB, alternative = 'two-sided')[1]))\n",
    "print(\"Относительный показатель 'B' и 'A' = {0:.3f}\".format(sampleB.mean()/sampleA.mean()-1)) "
   ]
  },
  {
   "cell_type": "markdown",
   "metadata": {},
   "source": [
    "Вывод: \n",
    "p-value (который равен 0.017) меньше 0.05. Следовательно, нулевую гипотезу о том, что статистически значимых различий в конверсии между группами нет можно отвергнуть. Это значит, что по «сырым» данным различия в конверсии групп A и B есть, а относительный прирост конверсии группы B по отношению к группе A равен 13.8%."
   ]
  },
  {
   "cell_type": "markdown",
   "metadata": {},
   "source": [
    "### Статистическая значимость различий в среднем чеке заказа между группами по «сырым» данным."
   ]
  },
  {
   "cell_type": "markdown",
   "metadata": {},
   "source": [
    "Критерию mannwhitneyu() передадим данные о выручке с заказов (пороговое значение возьмём равное 5%) и найдём относительные различия в среднем чеке между группами.\n",
    "\n",
    "Нулевую гипотезу определим так: \"Статистически значимых различий в средних чеках между группами нет\", следовательно альтернативная гипотеза будет следующей: \"Статистически значимые различия есть\"."
   ]
  },
  {
   "cell_type": "code",
   "execution_count": 42,
   "metadata": {},
   "outputs": [
    {
     "name": "stdout",
     "output_type": "stream",
     "text": [
      "alpha = 0.05\n",
      "p-value = 0.729\n",
      "Относительный показатель 'B' и 'A' = 0.259\n"
     ]
    }
   ],
   "source": [
    "print(\"alpha =\",0.05)\n",
    "print(\"p-value = {0:.3f}\".format(st.mannwhitneyu(orders[orders['group']=='A']['revenue'], orders[orders['group']=='B']['revenue'], alternative = 'two-sided')[1]))\n",
    "print(\"Относительный показатель 'B' и 'A' = {0:.3f}\".format(orders[orders['group']=='B']['revenue'].mean()/orders[orders['group']=='A']['revenue'].mean()-1)) "
   ]
  },
  {
   "cell_type": "markdown",
   "metadata": {},
   "source": [
    "P-value значительно больше 0.05. Следовательно, мы принимаем нулевую гипотезу. То есть средние чеки по \"сырым\" данным схожи. При этом, средний чек группы B значительно выше среднего чека группы A - на 25.9% ."
   ]
  },
  {
   "cell_type": "markdown",
   "metadata": {},
   "source": [
    "### Статистическая значимость различий в среднем количестве заказов на посетителя между группами по «очищенным» данным."
   ]
  },
  {
   "cell_type": "markdown",
   "metadata": {},
   "source": [
    "Мы определили, что подавляющее большинство пользователей не делает более 2 заказов и сумма 1 покупки в большинстве случаев не превышает 28 т.р. Очистим данные от аномальных пользователей с превышающими данные лимиты значениями."
   ]
  },
  {
   "cell_type": "code",
   "execution_count": 43,
   "metadata": {},
   "outputs": [
    {
     "name": "stdout",
     "output_type": "stream",
     "text": [
      "1099    148427295\n",
      "18      199603092\n",
      "928     204675465\n",
      "23      237748145\n",
      "37      249864742\n",
      "dtype: int64\n",
      "Кол-во аномальных пользователей = 74\n"
     ]
    }
   ],
   "source": [
    "usersWithManyOrders = pd.concat([ordersByUsersA[ordersByUsersA['orders'] > 2]['userId'], ordersByUsersB[ordersByUsersB['orders'] > 2]['userId']], axis = 0)\n",
    "usersWithExpensiveOrders = orders[orders['revenue'] > 28000]['visitorId']\n",
    "abnormalUsers = pd.concat([usersWithManyOrders, usersWithExpensiveOrders], axis = 0).drop_duplicates().sort_values()\n",
    "print(abnormalUsers.head(5))\n",
    "print(\"Кол-во аномальных пользователей =\" ,len(abnormalUsers)) "
   ]
  },
  {
   "cell_type": "markdown",
   "metadata": {},
   "source": [
    "Посчитаем статистическую значимость различий в конверсии между группами теста по очищенным данным, чтобы понять как действия аномальных пользователей повлияли на результаты теста.\n",
    "\n",
    "Применим статистический критерий Манна-Уитни к полученным выборкам.\n",
    "\n",
    "За нулевую гипотезу примем, что: \"Статистически значимых различий в конверсии между группами нет\", следовательно альтернативная гипотеза будет следующей: \"Статистически значимые различия есть\"."
   ]
  },
  {
   "cell_type": "code",
   "execution_count": 44,
   "metadata": {},
   "outputs": [
    {
     "name": "stdout",
     "output_type": "stream",
     "text": [
      "alpha = 0.05\n",
      "p-value = 0.013\n",
      "Относительный показатель 'B' и 'A' = 0.173\n"
     ]
    }
   ],
   "source": [
    "sampleAFiltered = pd.concat([ordersByUsersA[np.logical_not(ordersByUsersA['userId'].isin(abnormalUsers))]['orders'], \\\n",
    "                             pd.Series(0, index=np.arange(data['visitorsPerDateA'].sum() - len(ordersByUsersA['orders'])), \\\n",
    "                                       name='orders')],axis=0)\n",
    "\n",
    "sampleBFiltered = pd.concat([ordersByUsersB[np.logical_not(ordersByUsersB['userId'].isin(abnormalUsers))]['orders'], \\\n",
    "                             pd.Series(0, index=np.arange(data['visitorsPerDateB'].sum() - len(ordersByUsersB['orders'])), \\\n",
    "                                       name='orders')],axis=0) \n",
    "\n",
    "print(\"alpha =\",0.05)\n",
    "print(\"p-value = {0:.3f}\".format(st.mannwhitneyu(sampleAFiltered, sampleBFiltered, alternative = 'two-sided')[1]))\n",
    "print(\"Относительный показатель 'B' и 'A' = {0:.3f}\".format(sampleBFiltered.mean()/sampleAFiltered.mean()-1))"
   ]
  },
  {
   "cell_type": "markdown",
   "metadata": {},
   "source": [
    "p-value < 0.05, следовательно мы отвергаем нулевую гипотезу об отсутствии статистически значимых различий межд группами.\n",
    "\n",
    "По \"очищеным\" данным различия в конверсии групп A и B есть.\n",
    "Относительный прирост конверсии группы B по отношению к группе A равен 17.3%, что больше 13.8% по \"сырым\" данным."
   ]
  },
  {
   "cell_type": "markdown",
   "metadata": {},
   "source": [
    "### Статистическая значимость различий в среднем чеке заказа между группами по «очищенным» данным."
   ]
  },
  {
   "cell_type": "markdown",
   "metadata": {},
   "source": [
    "Нулевую гипотезу определим так: \"Статистически значимых различий в средних чеках между группами нет\", следовательно альтернативная гипотеза будет следующей: \"Статистически значимые различия есть\"."
   ]
  },
  {
   "cell_type": "code",
   "execution_count": 45,
   "metadata": {},
   "outputs": [
    {
     "name": "stdout",
     "output_type": "stream",
     "text": [
      "alpha = 0.05\n",
      "p-value = 0.738\n",
      "Относительный показатель 'B' и 'A' = -0.020\n"
     ]
    }
   ],
   "source": [
    "print(\"alpha =\",0.05)\n",
    "print(\"p-value = {0:.3f}\".format(st.mannwhitneyu(\n",
    "    orders[np.logical_and(\n",
    "        orders['group']=='A',\n",
    "        np.logical_not(orders['visitorId'].isin(abnormalUsers)))]['revenue'],\n",
    "    orders[np.logical_and(\n",
    "        orders['group']=='B',\n",
    "        np.logical_not(orders['visitorId'].isin(abnormalUsers)))]['revenue'], alternative = 'two-sided')[1]))\n",
    "\n",
    "print(\"Относительный показатель 'B' и 'A' = {0:.3f}\".format(\n",
    "    orders[np.logical_and(orders['group']=='B',np.logical_not(orders['visitorId'].isin(abnormalUsers)))]['revenue'].mean()/\n",
    "    orders[np.logical_and(\n",
    "        orders['group']=='A',\n",
    "        np.logical_not(orders['visitorId'].isin(abnormalUsers)))]['revenue'].mean() - 1))"
   ]
  },
  {
   "cell_type": "markdown",
   "metadata": {},
   "source": [
    "p-value > 0.05, следовательно мы принимаем нудевую гипотезу и считаем, что значимых различий в средних чеках между группами нет.\n",
    "Так же стоит отметить, что средний чек группы В оказался незначительно ниже (на 2%) среднего чека в группе А, в то время как по \"сырым\" данным он был выше на 25.9% ."
   ]
  },
  {
   "cell_type": "markdown",
   "metadata": {},
   "source": [
    "### Решение по результатам теста."
   ]
  },
  {
   "cell_type": "markdown",
   "metadata": {},
   "source": [
    "Выводы:\n",
    "\n",
    "Первоначально мы приоритезировали гипотезы благодаря фреймворкам ICE и RICE, выяснили, что при увеличении охвата теста гипотезы увеличится и ее приоритезация!\n",
    "\n",
    "Далее были проведены А/В тесты.\n",
    "\n",
    "В результате всех проведенных тестов мы пришли к следующим результатам:\n",
    "\n",
    "- Что по \"сырым\", что по \"очищенным\" данным имеются различия в конверсии между группами А и В. По \"сырым\" данным Конверсия группы В выше на 13.8%, а по \"очищенным\" на 17.3% .\n",
    "\n",
    "- И по \"сырым\" и по \"очищенным\" данным координальных отличий в средних чеках между группами не наблюдается, даже не смотря на больший показатель группы А (на 2%) по \"очищенным\" данным.\n",
    "\n",
    "\n",
    "Результаты тестирования можно интерпретировать следующим образом:\n",
    "\n",
    "Можно принять решение остановить тестирование и констатировать успех и победу группы B: группа B значительно лучше (эффективнее) группы A по конверсии, хотя по среднему чеку группы примерно равны."
   ]
  }
 ],
 "metadata": {
  "ExecuteTimeLog": [
   {
    "duration": 1146,
    "start_time": "2024-03-13T06:07:24.811Z"
   },
   {
    "duration": 58,
    "start_time": "2024-03-13T06:11:58.456Z"
   },
   {
    "duration": 10,
    "start_time": "2024-03-13T06:11:59.956Z"
   },
   {
    "duration": 10,
    "start_time": "2024-03-13T06:13:17.090Z"
   },
   {
    "duration": 7,
    "start_time": "2024-03-13T06:13:39.472Z"
   },
   {
    "duration": 4,
    "start_time": "2024-03-13T06:32:16.879Z"
   },
   {
    "duration": 1268,
    "start_time": "2024-03-13T09:38:34.612Z"
   },
   {
    "duration": 11,
    "start_time": "2024-03-13T09:39:01.740Z"
   },
   {
    "duration": 5,
    "start_time": "2024-03-13T09:40:46.634Z"
   },
   {
    "duration": 1011,
    "start_time": "2024-03-13T09:57:54.156Z"
   },
   {
    "duration": 27,
    "start_time": "2024-03-13T09:57:55.168Z"
   },
   {
    "duration": 10,
    "start_time": "2024-03-13T09:57:55.196Z"
   },
   {
    "duration": 13,
    "start_time": "2024-03-13T09:57:55.208Z"
   },
   {
    "duration": 10,
    "start_time": "2024-03-13T09:57:55.223Z"
   },
   {
    "duration": 94,
    "start_time": "2024-03-13T09:57:59.778Z"
   },
   {
    "duration": 9,
    "start_time": "2024-03-13T09:58:15.995Z"
   },
   {
    "duration": 3,
    "start_time": "2024-03-13T10:03:15.912Z"
   },
   {
    "duration": 10,
    "start_time": "2024-03-13T10:03:20.694Z"
   },
   {
    "duration": 137,
    "start_time": "2024-03-13T11:45:35.467Z"
   },
   {
    "duration": 9,
    "start_time": "2024-03-13T11:46:29.035Z"
   },
   {
    "duration": 6,
    "start_time": "2024-03-13T11:46:37.486Z"
   },
   {
    "duration": 8,
    "start_time": "2024-03-13T11:46:43.440Z"
   },
   {
    "duration": 6,
    "start_time": "2024-03-13T11:47:23.978Z"
   },
   {
    "duration": 6,
    "start_time": "2024-03-13T11:47:33.819Z"
   },
   {
    "duration": 3,
    "start_time": "2024-03-13T12:04:12.328Z"
   },
   {
    "duration": 10,
    "start_time": "2024-03-13T12:08:25.196Z"
   },
   {
    "duration": 1261,
    "start_time": "2024-03-13T16:30:35.989Z"
   },
   {
    "duration": 59,
    "start_time": "2024-03-13T16:30:37.252Z"
   },
   {
    "duration": 12,
    "start_time": "2024-03-13T16:30:37.312Z"
   },
   {
    "duration": 15,
    "start_time": "2024-03-13T16:30:37.325Z"
   },
   {
    "duration": 13,
    "start_time": "2024-03-13T16:30:37.341Z"
   },
   {
    "duration": 11,
    "start_time": "2024-03-13T16:30:37.356Z"
   },
   {
    "duration": 15,
    "start_time": "2024-03-13T16:30:37.369Z"
   },
   {
    "duration": 153,
    "start_time": "2024-03-13T16:30:37.385Z"
   },
   {
    "duration": 10,
    "start_time": "2024-03-13T16:30:37.539Z"
   },
   {
    "duration": 9,
    "start_time": "2024-03-13T16:30:37.552Z"
   },
   {
    "duration": 11,
    "start_time": "2024-03-13T16:30:37.563Z"
   },
   {
    "duration": 6,
    "start_time": "2024-03-13T16:30:48.254Z"
   },
   {
    "duration": 13,
    "start_time": "2024-03-13T16:40:30.678Z"
   },
   {
    "duration": 10,
    "start_time": "2024-03-13T16:41:00.994Z"
   },
   {
    "duration": 9,
    "start_time": "2024-03-13T16:41:03.920Z"
   },
   {
    "duration": 6,
    "start_time": "2024-03-13T16:42:26.778Z"
   },
   {
    "duration": 5,
    "start_time": "2024-03-13T16:42:28.135Z"
   },
   {
    "duration": 1090,
    "start_time": "2024-03-13T17:32:34.968Z"
   },
   {
    "duration": 27,
    "start_time": "2024-03-13T17:32:36.060Z"
   },
   {
    "duration": 10,
    "start_time": "2024-03-13T17:32:36.088Z"
   },
   {
    "duration": 24,
    "start_time": "2024-03-13T17:32:36.099Z"
   },
   {
    "duration": 17,
    "start_time": "2024-03-13T17:32:36.125Z"
   },
   {
    "duration": 11,
    "start_time": "2024-03-13T17:32:36.144Z"
   },
   {
    "duration": 10,
    "start_time": "2024-03-13T17:32:36.157Z"
   },
   {
    "duration": 54,
    "start_time": "2024-03-13T17:32:36.168Z"
   },
   {
    "duration": 10,
    "start_time": "2024-03-13T17:32:36.223Z"
   },
   {
    "duration": 22,
    "start_time": "2024-03-13T17:32:36.235Z"
   },
   {
    "duration": 16,
    "start_time": "2024-03-13T17:32:36.258Z"
   },
   {
    "duration": 19,
    "start_time": "2024-03-13T17:32:36.276Z"
   },
   {
    "duration": 29,
    "start_time": "2024-03-13T17:32:36.297Z"
   },
   {
    "duration": 17,
    "start_time": "2024-03-13T17:32:36.329Z"
   },
   {
    "duration": 23,
    "start_time": "2024-03-13T17:32:36.348Z"
   },
   {
    "duration": 6,
    "start_time": "2024-03-13T17:32:36.373Z"
   },
   {
    "duration": 4,
    "start_time": "2024-03-13T17:32:36.380Z"
   },
   {
    "duration": 13,
    "start_time": "2024-03-13T17:32:36.386Z"
   },
   {
    "duration": 291,
    "start_time": "2024-03-13T17:34:44.173Z"
   },
   {
    "duration": 96,
    "start_time": "2024-03-13T17:42:20.020Z"
   },
   {
    "duration": 9,
    "start_time": "2024-03-13T17:43:11.819Z"
   },
   {
    "duration": 264,
    "start_time": "2024-03-13T17:43:29.107Z"
   },
   {
    "duration": 12,
    "start_time": "2024-03-13T17:51:11.902Z"
   },
   {
    "duration": 194,
    "start_time": "2024-03-13T17:51:29.182Z"
   },
   {
    "duration": 1307,
    "start_time": "2024-03-16T03:06:40.167Z"
   },
   {
    "duration": 62,
    "start_time": "2024-03-16T03:06:41.475Z"
   },
   {
    "duration": 11,
    "start_time": "2024-03-16T03:06:41.539Z"
   },
   {
    "duration": 18,
    "start_time": "2024-03-16T03:06:41.551Z"
   },
   {
    "duration": 12,
    "start_time": "2024-03-16T03:06:41.571Z"
   },
   {
    "duration": 11,
    "start_time": "2024-03-16T03:06:41.585Z"
   },
   {
    "duration": 13,
    "start_time": "2024-03-16T03:06:41.598Z"
   },
   {
    "duration": 141,
    "start_time": "2024-03-16T03:06:41.613Z"
   },
   {
    "duration": 10,
    "start_time": "2024-03-16T03:06:41.756Z"
   },
   {
    "duration": 12,
    "start_time": "2024-03-16T03:06:41.767Z"
   },
   {
    "duration": 10,
    "start_time": "2024-03-16T03:06:41.780Z"
   },
   {
    "duration": 12,
    "start_time": "2024-03-16T03:06:41.791Z"
   },
   {
    "duration": 17,
    "start_time": "2024-03-16T03:06:41.804Z"
   },
   {
    "duration": 16,
    "start_time": "2024-03-16T03:06:41.824Z"
   },
   {
    "duration": 13,
    "start_time": "2024-03-16T03:06:41.842Z"
   },
   {
    "duration": 19,
    "start_time": "2024-03-16T03:06:41.856Z"
   },
   {
    "duration": 8,
    "start_time": "2024-03-16T03:06:41.877Z"
   },
   {
    "duration": 11,
    "start_time": "2024-03-16T03:06:41.887Z"
   },
   {
    "duration": 307,
    "start_time": "2024-03-16T03:06:41.900Z"
   },
   {
    "duration": 274,
    "start_time": "2024-03-16T03:06:42.208Z"
   },
   {
    "duration": 192,
    "start_time": "2024-03-16T03:06:42.484Z"
   },
   {
    "duration": 11,
    "start_time": "2024-03-16T03:10:19.937Z"
   },
   {
    "duration": 12,
    "start_time": "2024-03-16T03:12:04.135Z"
   },
   {
    "duration": 11,
    "start_time": "2024-03-16T03:12:19.915Z"
   },
   {
    "duration": 13,
    "start_time": "2024-03-16T03:12:29.918Z"
   },
   {
    "duration": 7,
    "start_time": "2024-03-16T03:13:59.845Z"
   },
   {
    "duration": 352,
    "start_time": "2024-03-16T03:30:18.788Z"
   },
   {
    "duration": 121,
    "start_time": "2024-03-16T03:46:27.869Z"
   },
   {
    "duration": 115,
    "start_time": "2024-03-16T03:47:34.327Z"
   },
   {
    "duration": 127,
    "start_time": "2024-03-16T03:48:17.586Z"
   },
   {
    "duration": 6,
    "start_time": "2024-03-16T03:54:11.145Z"
   },
   {
    "duration": 5,
    "start_time": "2024-03-16T03:55:21.764Z"
   },
   {
    "duration": 147,
    "start_time": "2024-03-16T04:08:55.295Z"
   },
   {
    "duration": 238,
    "start_time": "2024-03-16T04:10:11.859Z"
   },
   {
    "duration": 145,
    "start_time": "2024-03-16T04:10:19.496Z"
   },
   {
    "duration": 6,
    "start_time": "2024-03-16T04:12:54.615Z"
   },
   {
    "duration": 185,
    "start_time": "2024-03-16T04:27:08.380Z"
   },
   {
    "duration": 28,
    "start_time": "2024-03-16T04:29:58.877Z"
   },
   {
    "duration": 261,
    "start_time": "2024-03-16T04:34:07.794Z"
   },
   {
    "duration": 157,
    "start_time": "2024-03-16T04:35:38.256Z"
   },
   {
    "duration": 72,
    "start_time": "2024-03-16T04:36:34.128Z"
   },
   {
    "duration": 71,
    "start_time": "2024-03-16T04:36:55.011Z"
   },
   {
    "duration": 153,
    "start_time": "2024-03-16T04:37:09.575Z"
   },
   {
    "duration": 169,
    "start_time": "2024-03-16T04:38:12.008Z"
   },
   {
    "duration": 17,
    "start_time": "2024-03-16T04:44:50.673Z"
   },
   {
    "duration": 11,
    "start_time": "2024-03-16T04:45:04.703Z"
   },
   {
    "duration": 1189,
    "start_time": "2024-03-16T05:01:12.121Z"
   },
   {
    "duration": 28,
    "start_time": "2024-03-16T05:01:13.312Z"
   },
   {
    "duration": 10,
    "start_time": "2024-03-16T05:01:13.342Z"
   },
   {
    "duration": 27,
    "start_time": "2024-03-16T05:01:13.354Z"
   },
   {
    "duration": 11,
    "start_time": "2024-03-16T05:01:13.383Z"
   },
   {
    "duration": 11,
    "start_time": "2024-03-16T05:01:13.396Z"
   },
   {
    "duration": 25,
    "start_time": "2024-03-16T05:01:13.408Z"
   },
   {
    "duration": 65,
    "start_time": "2024-03-16T05:01:13.435Z"
   },
   {
    "duration": 10,
    "start_time": "2024-03-16T05:01:13.502Z"
   },
   {
    "duration": 14,
    "start_time": "2024-03-16T05:01:13.515Z"
   },
   {
    "duration": 31,
    "start_time": "2024-03-16T05:01:13.531Z"
   },
   {
    "duration": 16,
    "start_time": "2024-03-16T05:01:13.564Z"
   },
   {
    "duration": 26,
    "start_time": "2024-03-16T05:01:13.581Z"
   },
   {
    "duration": 14,
    "start_time": "2024-03-16T05:01:13.608Z"
   },
   {
    "duration": 13,
    "start_time": "2024-03-16T05:01:13.624Z"
   },
   {
    "duration": 21,
    "start_time": "2024-03-16T05:01:13.639Z"
   },
   {
    "duration": 10,
    "start_time": "2024-03-16T05:01:13.661Z"
   },
   {
    "duration": 14,
    "start_time": "2024-03-16T05:01:13.674Z"
   },
   {
    "duration": 318,
    "start_time": "2024-03-16T05:01:13.689Z"
   },
   {
    "duration": 296,
    "start_time": "2024-03-16T05:01:14.008Z"
   },
   {
    "duration": 224,
    "start_time": "2024-03-16T05:01:14.306Z"
   },
   {
    "duration": 11,
    "start_time": "2024-03-16T05:01:14.532Z"
   },
   {
    "duration": 10,
    "start_time": "2024-03-16T05:01:14.544Z"
   },
   {
    "duration": 16,
    "start_time": "2024-03-16T05:01:14.572Z"
   },
   {
    "duration": 318,
    "start_time": "2024-03-16T05:01:14.589Z"
   },
   {
    "duration": 139,
    "start_time": "2024-03-16T05:01:14.909Z"
   },
   {
    "duration": 154,
    "start_time": "2024-03-16T05:01:15.050Z"
   },
   {
    "duration": 5,
    "start_time": "2024-03-16T05:01:15.207Z"
   },
   {
    "duration": 36,
    "start_time": "2024-03-16T05:01:15.213Z"
   },
   {
    "duration": 191,
    "start_time": "2024-03-16T05:01:15.251Z"
   },
   {
    "duration": 4,
    "start_time": "2024-03-16T05:01:15.443Z"
   },
   {
    "duration": 232,
    "start_time": "2024-03-16T05:01:15.449Z"
   },
   {
    "duration": 33,
    "start_time": "2024-03-16T05:01:15.682Z"
   },
   {
    "duration": 198,
    "start_time": "2024-03-16T05:01:15.716Z"
   },
   {
    "duration": 13,
    "start_time": "2024-03-16T05:01:15.916Z"
   },
   {
    "duration": 9,
    "start_time": "2024-03-16T05:01:19.983Z"
   },
   {
    "duration": 39,
    "start_time": "2024-03-16T05:06:01.750Z"
   },
   {
    "duration": 110,
    "start_time": "2024-03-16T05:12:32.464Z"
   },
   {
    "duration": 19,
    "start_time": "2024-03-16T05:12:42.161Z"
   },
   {
    "duration": 1301,
    "start_time": "2024-03-17T13:19:39.005Z"
   },
   {
    "duration": 84,
    "start_time": "2024-03-17T13:19:40.308Z"
   },
   {
    "duration": 11,
    "start_time": "2024-03-17T13:19:40.394Z"
   },
   {
    "duration": 24,
    "start_time": "2024-03-17T13:19:40.406Z"
   },
   {
    "duration": 18,
    "start_time": "2024-03-17T13:19:40.432Z"
   },
   {
    "duration": 12,
    "start_time": "2024-03-17T13:19:40.451Z"
   },
   {
    "duration": 12,
    "start_time": "2024-03-17T13:19:40.465Z"
   },
   {
    "duration": 135,
    "start_time": "2024-03-17T13:19:40.479Z"
   },
   {
    "duration": 10,
    "start_time": "2024-03-17T13:19:40.615Z"
   },
   {
    "duration": 36,
    "start_time": "2024-03-17T13:19:40.626Z"
   },
   {
    "duration": 11,
    "start_time": "2024-03-17T13:19:40.664Z"
   },
   {
    "duration": 22,
    "start_time": "2024-03-17T13:19:40.677Z"
   },
   {
    "duration": 24,
    "start_time": "2024-03-17T13:19:40.700Z"
   },
   {
    "duration": 40,
    "start_time": "2024-03-17T13:19:40.727Z"
   },
   {
    "duration": 39,
    "start_time": "2024-03-17T13:19:40.769Z"
   },
   {
    "duration": 19,
    "start_time": "2024-03-17T13:19:40.810Z"
   },
   {
    "duration": 47,
    "start_time": "2024-03-17T13:19:40.830Z"
   },
   {
    "duration": 23,
    "start_time": "2024-03-17T13:19:40.879Z"
   },
   {
    "duration": 305,
    "start_time": "2024-03-17T13:19:40.904Z"
   },
   {
    "duration": 299,
    "start_time": "2024-03-17T13:19:41.210Z"
   },
   {
    "duration": 196,
    "start_time": "2024-03-17T13:19:41.510Z"
   },
   {
    "duration": 12,
    "start_time": "2024-03-17T13:19:41.707Z"
   },
   {
    "duration": 42,
    "start_time": "2024-03-17T13:19:41.720Z"
   },
   {
    "duration": 31,
    "start_time": "2024-03-17T13:19:41.763Z"
   },
   {
    "duration": 367,
    "start_time": "2024-03-17T13:19:41.796Z"
   },
   {
    "duration": 143,
    "start_time": "2024-03-17T13:19:42.165Z"
   },
   {
    "duration": 142,
    "start_time": "2024-03-17T13:19:42.309Z"
   },
   {
    "duration": 5,
    "start_time": "2024-03-17T13:19:42.453Z"
   },
   {
    "duration": 25,
    "start_time": "2024-03-17T13:19:42.459Z"
   },
   {
    "duration": 172,
    "start_time": "2024-03-17T13:19:42.485Z"
   },
   {
    "duration": 6,
    "start_time": "2024-03-17T13:19:42.659Z"
   },
   {
    "duration": 204,
    "start_time": "2024-03-17T13:19:42.673Z"
   },
   {
    "duration": 29,
    "start_time": "2024-03-17T13:19:42.879Z"
   },
   {
    "duration": 211,
    "start_time": "2024-03-17T13:19:42.909Z"
   },
   {
    "duration": 10,
    "start_time": "2024-03-17T13:19:43.121Z"
   },
   {
    "duration": 15,
    "start_time": "2024-03-17T13:19:43.133Z"
   },
   {
    "duration": 43,
    "start_time": "2024-03-17T13:19:43.149Z"
   },
   {
    "duration": 13,
    "start_time": "2024-03-17T13:19:43.193Z"
   },
   {
    "duration": 1450,
    "start_time": "2024-03-18T04:12:55.193Z"
   },
   {
    "duration": 71,
    "start_time": "2024-03-18T04:12:56.645Z"
   },
   {
    "duration": 12,
    "start_time": "2024-03-18T04:12:56.718Z"
   },
   {
    "duration": 14,
    "start_time": "2024-03-18T04:12:56.732Z"
   },
   {
    "duration": 13,
    "start_time": "2024-03-18T04:12:56.748Z"
   },
   {
    "duration": 12,
    "start_time": "2024-03-18T04:12:56.762Z"
   },
   {
    "duration": 12,
    "start_time": "2024-03-18T04:12:56.776Z"
   },
   {
    "duration": 137,
    "start_time": "2024-03-18T04:12:56.790Z"
   },
   {
    "duration": 11,
    "start_time": "2024-03-18T04:12:56.928Z"
   },
   {
    "duration": 32,
    "start_time": "2024-03-18T04:12:56.940Z"
   },
   {
    "duration": 9,
    "start_time": "2024-03-18T04:12:56.974Z"
   },
   {
    "duration": 11,
    "start_time": "2024-03-18T04:12:56.985Z"
   },
   {
    "duration": 16,
    "start_time": "2024-03-18T04:12:56.997Z"
   },
   {
    "duration": 12,
    "start_time": "2024-03-18T04:12:57.016Z"
   },
   {
    "duration": 13,
    "start_time": "2024-03-18T04:12:57.029Z"
   },
   {
    "duration": 7,
    "start_time": "2024-03-18T04:12:57.043Z"
   },
   {
    "duration": 10,
    "start_time": "2024-03-18T04:12:57.051Z"
   },
   {
    "duration": 10,
    "start_time": "2024-03-18T04:12:57.082Z"
   },
   {
    "duration": 337,
    "start_time": "2024-03-18T04:12:57.094Z"
   },
   {
    "duration": 321,
    "start_time": "2024-03-18T04:12:57.432Z"
   },
   {
    "duration": 224,
    "start_time": "2024-03-18T04:12:57.754Z"
   },
   {
    "duration": 12,
    "start_time": "2024-03-18T04:12:57.981Z"
   },
   {
    "duration": 13,
    "start_time": "2024-03-18T04:12:57.994Z"
   },
   {
    "duration": 25,
    "start_time": "2024-03-18T04:12:58.008Z"
   },
   {
    "duration": 392,
    "start_time": "2024-03-18T04:12:58.034Z"
   },
   {
    "duration": 135,
    "start_time": "2024-03-18T04:12:58.427Z"
   },
   {
    "duration": 161,
    "start_time": "2024-03-18T04:12:58.564Z"
   },
   {
    "duration": 5,
    "start_time": "2024-03-18T04:12:58.727Z"
   },
   {
    "duration": 11,
    "start_time": "2024-03-18T04:12:58.733Z"
   },
   {
    "duration": 175,
    "start_time": "2024-03-18T04:12:58.746Z"
   },
   {
    "duration": 6,
    "start_time": "2024-03-18T04:12:58.923Z"
   },
   {
    "duration": 231,
    "start_time": "2024-03-18T04:12:58.931Z"
   },
   {
    "duration": 34,
    "start_time": "2024-03-18T04:12:59.164Z"
   },
   {
    "duration": 175,
    "start_time": "2024-03-18T04:12:59.199Z"
   },
   {
    "duration": 14,
    "start_time": "2024-03-18T04:12:59.376Z"
   },
   {
    "duration": 11,
    "start_time": "2024-03-18T04:12:59.391Z"
   },
   {
    "duration": 33,
    "start_time": "2024-03-18T04:12:59.403Z"
   },
   {
    "duration": 16,
    "start_time": "2024-03-18T04:12:59.437Z"
   },
   {
    "duration": 245,
    "start_time": "2024-03-18T04:16:00.905Z"
   },
   {
    "duration": 295,
    "start_time": "2024-03-18T04:22:20.624Z"
   },
   {
    "duration": 218,
    "start_time": "2024-03-18T04:48:24.909Z"
   },
   {
    "duration": 244,
    "start_time": "2024-03-18T05:05:13.432Z"
   },
   {
    "duration": 141,
    "start_time": "2024-03-18T05:11:05.118Z"
   },
   {
    "duration": 364,
    "start_time": "2024-03-18T05:11:25.564Z"
   },
   {
    "duration": 1139,
    "start_time": "2024-03-18T13:25:52.279Z"
   },
   {
    "duration": 72,
    "start_time": "2024-03-18T13:25:53.420Z"
   },
   {
    "duration": 11,
    "start_time": "2024-03-18T13:25:53.493Z"
   },
   {
    "duration": 23,
    "start_time": "2024-03-18T13:25:53.507Z"
   },
   {
    "duration": 15,
    "start_time": "2024-03-18T13:25:53.532Z"
   },
   {
    "duration": 22,
    "start_time": "2024-03-18T13:25:53.548Z"
   },
   {
    "duration": 20,
    "start_time": "2024-03-18T13:25:53.571Z"
   },
   {
    "duration": 135,
    "start_time": "2024-03-18T13:25:53.592Z"
   },
   {
    "duration": 10,
    "start_time": "2024-03-18T13:25:53.728Z"
   },
   {
    "duration": 14,
    "start_time": "2024-03-18T13:25:53.740Z"
   },
   {
    "duration": 14,
    "start_time": "2024-03-18T13:25:53.755Z"
   },
   {
    "duration": 7,
    "start_time": "2024-03-18T13:25:53.770Z"
   },
   {
    "duration": 25,
    "start_time": "2024-03-18T13:25:53.779Z"
   },
   {
    "duration": 10,
    "start_time": "2024-03-18T13:25:53.805Z"
   },
   {
    "duration": 16,
    "start_time": "2024-03-18T13:25:53.817Z"
   },
   {
    "duration": 23,
    "start_time": "2024-03-18T13:25:53.835Z"
   },
   {
    "duration": 4,
    "start_time": "2024-03-18T13:25:53.859Z"
   },
   {
    "duration": 12,
    "start_time": "2024-03-18T13:25:53.865Z"
   },
   {
    "duration": 280,
    "start_time": "2024-03-18T13:25:53.878Z"
   },
   {
    "duration": 278,
    "start_time": "2024-03-18T13:25:54.159Z"
   },
   {
    "duration": 193,
    "start_time": "2024-03-18T13:25:54.438Z"
   },
   {
    "duration": 11,
    "start_time": "2024-03-18T13:25:54.632Z"
   },
   {
    "duration": 9,
    "start_time": "2024-03-18T13:25:54.644Z"
   },
   {
    "duration": 25,
    "start_time": "2024-03-18T13:25:54.654Z"
   },
   {
    "duration": 303,
    "start_time": "2024-03-18T13:25:54.680Z"
   },
   {
    "duration": 219,
    "start_time": "2024-03-18T13:25:54.985Z"
   },
   {
    "duration": 307,
    "start_time": "2024-03-18T13:25:55.206Z"
   },
   {
    "duration": 139,
    "start_time": "2024-03-18T13:25:55.516Z"
   },
   {
    "duration": 135,
    "start_time": "2024-03-18T13:25:55.670Z"
   },
   {
    "duration": 5,
    "start_time": "2024-03-18T13:25:55.806Z"
   },
   {
    "duration": 18,
    "start_time": "2024-03-18T13:25:55.812Z"
   },
   {
    "duration": 161,
    "start_time": "2024-03-18T13:25:55.832Z"
   },
   {
    "duration": 5,
    "start_time": "2024-03-18T13:25:55.995Z"
   },
   {
    "duration": 272,
    "start_time": "2024-03-18T13:25:56.002Z"
   },
   {
    "duration": 26,
    "start_time": "2024-03-18T13:25:56.275Z"
   },
   {
    "duration": 154,
    "start_time": "2024-03-18T13:25:56.302Z"
   },
   {
    "duration": 19,
    "start_time": "2024-03-18T13:25:56.457Z"
   },
   {
    "duration": 9,
    "start_time": "2024-03-18T13:25:56.478Z"
   },
   {
    "duration": 32,
    "start_time": "2024-03-18T13:25:56.489Z"
   },
   {
    "duration": 15,
    "start_time": "2024-03-18T13:25:56.523Z"
   },
   {
    "duration": 1110,
    "start_time": "2024-03-18T13:49:23.045Z"
   },
   {
    "duration": 27,
    "start_time": "2024-03-18T13:49:24.157Z"
   },
   {
    "duration": 12,
    "start_time": "2024-03-18T13:49:24.185Z"
   },
   {
    "duration": 13,
    "start_time": "2024-03-18T13:49:24.199Z"
   },
   {
    "duration": 12,
    "start_time": "2024-03-18T13:49:24.213Z"
   },
   {
    "duration": 11,
    "start_time": "2024-03-18T13:49:24.226Z"
   },
   {
    "duration": 9,
    "start_time": "2024-03-18T13:49:24.238Z"
   },
   {
    "duration": 52,
    "start_time": "2024-03-18T13:49:24.248Z"
   },
   {
    "duration": 9,
    "start_time": "2024-03-18T13:49:24.301Z"
   },
   {
    "duration": 9,
    "start_time": "2024-03-18T13:49:24.313Z"
   },
   {
    "duration": 11,
    "start_time": "2024-03-18T13:49:24.323Z"
   },
   {
    "duration": 17,
    "start_time": "2024-03-18T13:49:24.336Z"
   },
   {
    "duration": 18,
    "start_time": "2024-03-18T13:49:24.355Z"
   },
   {
    "duration": 18,
    "start_time": "2024-03-18T13:49:24.374Z"
   },
   {
    "duration": 13,
    "start_time": "2024-03-18T13:49:24.393Z"
   },
   {
    "duration": 5,
    "start_time": "2024-03-18T13:49:24.407Z"
   },
   {
    "duration": 4,
    "start_time": "2024-03-18T13:49:24.413Z"
   },
   {
    "duration": 10,
    "start_time": "2024-03-18T13:49:24.419Z"
   },
   {
    "duration": 293,
    "start_time": "2024-03-18T13:49:24.430Z"
   },
   {
    "duration": 256,
    "start_time": "2024-03-18T13:49:24.725Z"
   },
   {
    "duration": 193,
    "start_time": "2024-03-18T13:49:24.982Z"
   },
   {
    "duration": 9,
    "start_time": "2024-03-18T13:49:25.177Z"
   },
   {
    "duration": 13,
    "start_time": "2024-03-18T13:49:25.188Z"
   },
   {
    "duration": 12,
    "start_time": "2024-03-18T13:49:25.202Z"
   },
   {
    "duration": 285,
    "start_time": "2024-03-18T13:49:25.216Z"
   },
   {
    "duration": 209,
    "start_time": "2024-03-18T13:49:25.503Z"
   },
   {
    "duration": 272,
    "start_time": "2024-03-18T13:49:25.714Z"
   },
   {
    "duration": 123,
    "start_time": "2024-03-18T13:49:25.989Z"
   },
   {
    "duration": 133,
    "start_time": "2024-03-18T13:49:26.114Z"
   },
   {
    "duration": 4,
    "start_time": "2024-03-18T13:49:26.249Z"
   },
   {
    "duration": 15,
    "start_time": "2024-03-18T13:49:26.255Z"
   },
   {
    "duration": 141,
    "start_time": "2024-03-18T13:49:26.271Z"
   },
   {
    "duration": 4,
    "start_time": "2024-03-18T13:49:26.414Z"
   },
   {
    "duration": 267,
    "start_time": "2024-03-18T13:49:26.419Z"
   },
   {
    "duration": 30,
    "start_time": "2024-03-18T13:49:26.688Z"
   },
   {
    "duration": 160,
    "start_time": "2024-03-18T13:49:26.720Z"
   },
   {
    "duration": 10,
    "start_time": "2024-03-18T13:49:26.881Z"
   },
   {
    "duration": 11,
    "start_time": "2024-03-18T13:49:26.892Z"
   },
   {
    "duration": 27,
    "start_time": "2024-03-18T13:49:26.904Z"
   },
   {
    "duration": 12,
    "start_time": "2024-03-18T13:49:26.932Z"
   },
   {
    "duration": 1167,
    "start_time": "2024-03-18T13:49:45.683Z"
   },
   {
    "duration": 27,
    "start_time": "2024-03-18T13:49:46.852Z"
   },
   {
    "duration": 10,
    "start_time": "2024-03-18T13:49:46.881Z"
   },
   {
    "duration": 30,
    "start_time": "2024-03-18T13:49:46.893Z"
   },
   {
    "duration": 35,
    "start_time": "2024-03-18T13:49:46.925Z"
   },
   {
    "duration": 23,
    "start_time": "2024-03-18T13:49:46.961Z"
   },
   {
    "duration": 27,
    "start_time": "2024-03-18T13:49:46.985Z"
   },
   {
    "duration": 63,
    "start_time": "2024-03-18T13:49:47.013Z"
   },
   {
    "duration": 10,
    "start_time": "2024-03-18T13:49:47.077Z"
   },
   {
    "duration": 16,
    "start_time": "2024-03-18T13:49:47.089Z"
   },
   {
    "duration": 35,
    "start_time": "2024-03-18T13:49:47.107Z"
   },
   {
    "duration": 33,
    "start_time": "2024-03-18T13:49:47.144Z"
   },
   {
    "duration": 31,
    "start_time": "2024-03-18T13:49:47.179Z"
   },
   {
    "duration": 44,
    "start_time": "2024-03-18T13:49:47.212Z"
   },
   {
    "duration": 16,
    "start_time": "2024-03-18T13:49:47.257Z"
   },
   {
    "duration": 16,
    "start_time": "2024-03-18T13:49:47.275Z"
   },
   {
    "duration": 12,
    "start_time": "2024-03-18T13:49:47.292Z"
   },
   {
    "duration": 28,
    "start_time": "2024-03-18T13:49:47.305Z"
   },
   {
    "duration": 287,
    "start_time": "2024-03-18T13:49:47.334Z"
   },
   {
    "duration": 259,
    "start_time": "2024-03-18T13:49:47.623Z"
   },
   {
    "duration": 188,
    "start_time": "2024-03-18T13:49:47.883Z"
   },
   {
    "duration": 11,
    "start_time": "2024-03-18T13:49:48.073Z"
   },
   {
    "duration": 12,
    "start_time": "2024-03-18T13:49:48.086Z"
   },
   {
    "duration": 36,
    "start_time": "2024-03-18T13:49:48.100Z"
   },
   {
    "duration": 334,
    "start_time": "2024-03-18T13:49:48.137Z"
   },
   {
    "duration": 213,
    "start_time": "2024-03-18T13:49:48.473Z"
   },
   {
    "duration": 312,
    "start_time": "2024-03-18T13:49:48.688Z"
   },
   {
    "duration": 123,
    "start_time": "2024-03-18T13:49:49.003Z"
   },
   {
    "duration": 128,
    "start_time": "2024-03-18T13:49:49.127Z"
   },
   {
    "duration": 13,
    "start_time": "2024-03-18T13:49:49.257Z"
   },
   {
    "duration": 6,
    "start_time": "2024-03-18T13:49:49.271Z"
   },
   {
    "duration": 159,
    "start_time": "2024-03-18T13:49:49.279Z"
   },
   {
    "duration": 4,
    "start_time": "2024-03-18T13:49:49.440Z"
   },
   {
    "duration": 246,
    "start_time": "2024-03-18T13:49:49.445Z"
   },
   {
    "duration": 25,
    "start_time": "2024-03-18T13:49:49.693Z"
   },
   {
    "duration": 153,
    "start_time": "2024-03-18T13:49:49.719Z"
   },
   {
    "duration": 12,
    "start_time": "2024-03-18T13:49:49.874Z"
   },
   {
    "duration": 13,
    "start_time": "2024-03-18T13:49:49.887Z"
   },
   {
    "duration": 52,
    "start_time": "2024-03-18T13:49:49.901Z"
   },
   {
    "duration": 15,
    "start_time": "2024-03-18T13:49:49.954Z"
   },
   {
    "duration": 1488,
    "start_time": "2024-03-18T16:59:02.947Z"
   },
   {
    "duration": 69,
    "start_time": "2024-03-18T16:59:04.438Z"
   },
   {
    "duration": 12,
    "start_time": "2024-03-18T16:59:04.509Z"
   },
   {
    "duration": 15,
    "start_time": "2024-03-18T16:59:04.523Z"
   },
   {
    "duration": 16,
    "start_time": "2024-03-18T16:59:04.540Z"
   },
   {
    "duration": 23,
    "start_time": "2024-03-18T16:59:04.558Z"
   },
   {
    "duration": 14,
    "start_time": "2024-03-18T16:59:04.583Z"
   },
   {
    "duration": 157,
    "start_time": "2024-03-18T16:59:04.598Z"
   },
   {
    "duration": 11,
    "start_time": "2024-03-18T16:59:04.756Z"
   },
   {
    "duration": 9,
    "start_time": "2024-03-18T16:59:04.769Z"
   },
   {
    "duration": 16,
    "start_time": "2024-03-18T16:59:04.780Z"
   },
   {
    "duration": 14,
    "start_time": "2024-03-18T16:59:04.797Z"
   },
   {
    "duration": 20,
    "start_time": "2024-03-18T16:59:04.813Z"
   },
   {
    "duration": 20,
    "start_time": "2024-03-18T16:59:04.836Z"
   },
   {
    "duration": 25,
    "start_time": "2024-03-18T16:59:04.858Z"
   },
   {
    "duration": 13,
    "start_time": "2024-03-18T16:59:04.885Z"
   },
   {
    "duration": 5,
    "start_time": "2024-03-18T16:59:10.527Z"
   },
   {
    "duration": 100,
    "start_time": "2024-03-18T17:07:59.725Z"
   },
   {
    "duration": 6,
    "start_time": "2024-03-18T17:08:08.396Z"
   },
   {
    "duration": 7,
    "start_time": "2024-03-18T17:08:24.899Z"
   },
   {
    "duration": 3,
    "start_time": "2024-03-18T17:16:19.188Z"
   },
   {
    "duration": 45,
    "start_time": "2024-03-18T17:16:19.194Z"
   },
   {
    "duration": 10,
    "start_time": "2024-03-18T17:16:19.241Z"
   },
   {
    "duration": 12,
    "start_time": "2024-03-18T17:16:19.253Z"
   },
   {
    "duration": 14,
    "start_time": "2024-03-18T17:16:19.267Z"
   },
   {
    "duration": 16,
    "start_time": "2024-03-18T17:16:19.282Z"
   },
   {
    "duration": 31,
    "start_time": "2024-03-18T17:16:19.300Z"
   },
   {
    "duration": 54,
    "start_time": "2024-03-18T17:16:19.333Z"
   },
   {
    "duration": 11,
    "start_time": "2024-03-18T17:16:19.389Z"
   },
   {
    "duration": 15,
    "start_time": "2024-03-18T17:16:19.402Z"
   },
   {
    "duration": 14,
    "start_time": "2024-03-18T17:16:19.418Z"
   },
   {
    "duration": 7,
    "start_time": "2024-03-18T17:16:19.433Z"
   },
   {
    "duration": 13,
    "start_time": "2024-03-18T17:16:19.441Z"
   },
   {
    "duration": 10,
    "start_time": "2024-03-18T17:16:19.455Z"
   },
   {
    "duration": 21,
    "start_time": "2024-03-18T17:16:19.467Z"
   },
   {
    "duration": 6,
    "start_time": "2024-03-18T17:16:19.489Z"
   },
   {
    "duration": 10,
    "start_time": "2024-03-18T17:16:19.496Z"
   },
   {
    "duration": 6,
    "start_time": "2024-03-18T17:16:19.507Z"
   },
   {
    "duration": 6,
    "start_time": "2024-03-18T17:16:19.514Z"
   },
   {
    "duration": 14,
    "start_time": "2024-03-18T17:16:19.521Z"
   },
   {
    "duration": 319,
    "start_time": "2024-03-18T17:16:19.536Z"
   },
   {
    "duration": 306,
    "start_time": "2024-03-18T17:16:19.857Z"
   },
   {
    "duration": 208,
    "start_time": "2024-03-18T17:16:20.164Z"
   },
   {
    "duration": 16,
    "start_time": "2024-03-18T17:16:20.373Z"
   },
   {
    "duration": 10,
    "start_time": "2024-03-18T17:16:20.391Z"
   },
   {
    "duration": 20,
    "start_time": "2024-03-18T17:16:20.402Z"
   },
   {
    "duration": 391,
    "start_time": "2024-03-18T17:16:20.423Z"
   },
   {
    "duration": 240,
    "start_time": "2024-03-18T17:16:25.279Z"
   },
   {
    "duration": 288,
    "start_time": "2024-03-18T17:16:49.311Z"
   },
   {
    "duration": 8,
    "start_time": "2024-03-18T17:34:23.624Z"
   },
   {
    "duration": 22,
    "start_time": "2024-03-18T17:38:10.506Z"
   },
   {
    "duration": 9,
    "start_time": "2024-03-18T17:38:34.755Z"
   },
   {
    "duration": 9,
    "start_time": "2024-03-18T17:43:46.803Z"
   },
   {
    "duration": 1094,
    "start_time": "2024-03-19T12:22:53.377Z"
   },
   {
    "duration": 27,
    "start_time": "2024-03-19T12:22:54.473Z"
   },
   {
    "duration": 11,
    "start_time": "2024-03-19T12:22:54.501Z"
   },
   {
    "duration": 16,
    "start_time": "2024-03-19T12:22:54.513Z"
   },
   {
    "duration": 11,
    "start_time": "2024-03-19T12:22:54.531Z"
   },
   {
    "duration": 17,
    "start_time": "2024-03-19T12:22:54.543Z"
   },
   {
    "duration": 12,
    "start_time": "2024-03-19T12:22:54.561Z"
   },
   {
    "duration": 50,
    "start_time": "2024-03-19T12:22:54.575Z"
   },
   {
    "duration": 10,
    "start_time": "2024-03-19T12:22:54.627Z"
   },
   {
    "duration": 12,
    "start_time": "2024-03-19T12:22:54.639Z"
   },
   {
    "duration": 9,
    "start_time": "2024-03-19T12:22:54.653Z"
   },
   {
    "duration": 43,
    "start_time": "2024-03-19T12:22:54.664Z"
   },
   {
    "duration": 23,
    "start_time": "2024-03-19T12:22:54.708Z"
   },
   {
    "duration": 25,
    "start_time": "2024-03-19T12:22:54.735Z"
   },
   {
    "duration": 11,
    "start_time": "2024-03-19T12:22:54.762Z"
   },
   {
    "duration": 7,
    "start_time": "2024-03-19T12:22:54.775Z"
   },
   {
    "duration": 7,
    "start_time": "2024-03-19T12:22:54.783Z"
   },
   {
    "duration": 23,
    "start_time": "2024-03-19T12:22:54.791Z"
   },
   {
    "duration": 20,
    "start_time": "2024-03-19T12:22:54.815Z"
   },
   {
    "duration": 29,
    "start_time": "2024-03-19T12:22:54.837Z"
   },
   {
    "duration": 10,
    "start_time": "2024-03-19T12:22:54.867Z"
   },
   {
    "duration": 8,
    "start_time": "2024-03-19T12:22:54.878Z"
   },
   {
    "duration": 20,
    "start_time": "2024-03-19T12:22:54.888Z"
   },
   {
    "duration": 308,
    "start_time": "2024-03-19T12:22:54.909Z"
   },
   {
    "duration": 291,
    "start_time": "2024-03-19T12:22:55.218Z"
   },
   {
    "duration": 198,
    "start_time": "2024-03-19T12:22:55.511Z"
   },
   {
    "duration": 11,
    "start_time": "2024-03-19T12:22:55.710Z"
   },
   {
    "duration": 16,
    "start_time": "2024-03-19T12:22:55.723Z"
   },
   {
    "duration": 22,
    "start_time": "2024-03-19T12:22:55.741Z"
   },
   {
    "duration": 310,
    "start_time": "2024-03-19T12:22:55.765Z"
   },
   {
    "duration": 232,
    "start_time": "2024-03-19T12:22:56.077Z"
   },
   {
    "duration": 314,
    "start_time": "2024-03-19T12:22:56.311Z"
   },
   {
    "duration": 148,
    "start_time": "2024-03-19T12:22:56.627Z"
   },
   {
    "duration": 150,
    "start_time": "2024-03-19T12:22:56.776Z"
   },
   {
    "duration": 5,
    "start_time": "2024-03-19T12:22:56.927Z"
   },
   {
    "duration": 31,
    "start_time": "2024-03-19T12:22:56.933Z"
   },
   {
    "duration": 174,
    "start_time": "2024-03-19T12:22:56.966Z"
   },
   {
    "duration": 5,
    "start_time": "2024-03-19T12:22:57.142Z"
   },
   {
    "duration": 288,
    "start_time": "2024-03-19T12:22:57.148Z"
   },
   {
    "duration": 31,
    "start_time": "2024-03-19T12:22:57.438Z"
   },
   {
    "duration": 178,
    "start_time": "2024-03-19T12:22:57.472Z"
   },
   {
    "duration": 10,
    "start_time": "2024-03-19T12:22:57.659Z"
   },
   {
    "duration": 12,
    "start_time": "2024-03-19T12:22:57.670Z"
   },
   {
    "duration": 38,
    "start_time": "2024-03-19T12:22:57.683Z"
   },
   {
    "duration": 39,
    "start_time": "2024-03-19T12:22:57.723Z"
   },
   {
    "duration": 1234,
    "start_time": "2024-03-19T12:29:29.838Z"
   },
   {
    "duration": 27,
    "start_time": "2024-03-19T12:29:31.074Z"
   },
   {
    "duration": 43,
    "start_time": "2024-03-19T12:29:31.103Z"
   },
   {
    "duration": 69,
    "start_time": "2024-03-19T12:29:31.148Z"
   },
   {
    "duration": 38,
    "start_time": "2024-03-19T12:29:31.219Z"
   },
   {
    "duration": 43,
    "start_time": "2024-03-19T12:29:31.259Z"
   },
   {
    "duration": 57,
    "start_time": "2024-03-19T12:29:31.304Z"
   },
   {
    "duration": 117,
    "start_time": "2024-03-19T12:29:31.363Z"
   },
   {
    "duration": 131,
    "start_time": "2024-03-19T12:29:31.481Z"
   },
   {
    "duration": 65,
    "start_time": "2024-03-19T12:29:31.615Z"
   },
   {
    "duration": 31,
    "start_time": "2024-03-19T12:29:31.681Z"
   },
   {
    "duration": 72,
    "start_time": "2024-03-19T12:29:31.713Z"
   },
   {
    "duration": 116,
    "start_time": "2024-03-19T12:29:31.787Z"
   },
   {
    "duration": 99,
    "start_time": "2024-03-19T12:29:31.905Z"
   },
   {
    "duration": 152,
    "start_time": "2024-03-19T12:29:32.005Z"
   },
   {
    "duration": 140,
    "start_time": "2024-03-19T12:29:32.159Z"
   },
   {
    "duration": 128,
    "start_time": "2024-03-19T12:29:32.301Z"
   },
   {
    "duration": 77,
    "start_time": "2024-03-19T12:29:32.431Z"
   },
   {
    "duration": 57,
    "start_time": "2024-03-19T12:29:32.509Z"
   },
   {
    "duration": 56,
    "start_time": "2024-03-19T12:29:32.568Z"
   },
   {
    "duration": 31,
    "start_time": "2024-03-19T12:29:32.625Z"
   },
   {
    "duration": 80,
    "start_time": "2024-03-19T12:29:32.657Z"
   },
   {
    "duration": 265,
    "start_time": "2024-03-19T12:29:32.739Z"
   },
   {
    "duration": 453,
    "start_time": "2024-03-19T12:29:33.006Z"
   },
   {
    "duration": 284,
    "start_time": "2024-03-19T12:29:33.460Z"
   },
   {
    "duration": 214,
    "start_time": "2024-03-19T12:29:33.746Z"
   },
   {
    "duration": 10,
    "start_time": "2024-03-19T12:29:33.962Z"
   },
   {
    "duration": 47,
    "start_time": "2024-03-19T12:29:33.976Z"
   },
   {
    "duration": 22,
    "start_time": "2024-03-19T12:29:34.024Z"
   },
   {
    "duration": 318,
    "start_time": "2024-03-19T12:29:34.048Z"
   },
   {
    "duration": 235,
    "start_time": "2024-03-19T12:29:34.367Z"
   },
   {
    "duration": 287,
    "start_time": "2024-03-19T12:29:34.603Z"
   },
   {
    "duration": 145,
    "start_time": "2024-03-19T12:29:34.891Z"
   },
   {
    "duration": 152,
    "start_time": "2024-03-19T12:29:35.037Z"
   },
   {
    "duration": 6,
    "start_time": "2024-03-19T12:29:35.191Z"
   },
   {
    "duration": 10,
    "start_time": "2024-03-19T12:29:35.198Z"
   },
   {
    "duration": 172,
    "start_time": "2024-03-19T12:29:35.209Z"
   },
   {
    "duration": 5,
    "start_time": "2024-03-19T12:29:35.382Z"
   },
   {
    "duration": 277,
    "start_time": "2024-03-19T12:29:35.389Z"
   },
   {
    "duration": 29,
    "start_time": "2024-03-19T12:29:35.668Z"
   },
   {
    "duration": 174,
    "start_time": "2024-03-19T12:29:35.698Z"
   },
   {
    "duration": 11,
    "start_time": "2024-03-19T12:29:35.874Z"
   },
   {
    "duration": 9,
    "start_time": "2024-03-19T12:29:35.887Z"
   },
   {
    "duration": 28,
    "start_time": "2024-03-19T12:29:35.898Z"
   },
   {
    "duration": 41,
    "start_time": "2024-03-19T12:29:35.928Z"
   }
  ],
  "kernelspec": {
   "display_name": "Python 3 (ipykernel)",
   "language": "python",
   "name": "python3"
  },
  "language_info": {
   "codemirror_mode": {
    "name": "ipython",
    "version": 3
   },
   "file_extension": ".py",
   "mimetype": "text/x-python",
   "name": "python",
   "nbconvert_exporter": "python",
   "pygments_lexer": "ipython3",
   "version": "3.11.7"
  },
  "toc": {
   "base_numbering": 1,
   "nav_menu": {},
   "number_sections": true,
   "sideBar": true,
   "skip_h1_title": true,
   "title_cell": "Table of Contents",
   "title_sidebar": "Contents",
   "toc_cell": false,
   "toc_position": {},
   "toc_section_display": true,
   "toc_window_display": false
  }
 },
 "nbformat": 4,
 "nbformat_minor": 4
}
